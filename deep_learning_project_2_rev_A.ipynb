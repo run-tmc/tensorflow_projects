{
 "cells": [
  {
   "cell_type": "markdown",
   "metadata": {},
   "source": [
    "# Deep Learning Project 2 - Computer Vision Multi-Classification and                                                                  Multi-Layer Neural Network Models\n",
    "Previously, pickle files were formatted datasets for training, development and testing on the notMNIST dataset.\n",
    "The goal of this project is to progressively train deeper and more accurate models using TensorFlow."
   ]
  },
  {
   "cell_type": "code",
   "execution_count": 2,
   "metadata": {},
   "outputs": [
    {
     "name": "stderr",
     "output_type": "stream",
     "text": [
      "C:\\Users\\trevo\\Anaconda3\\lib\\site-packages\\h5py\\__init__.py:34: FutureWarning: Conversion of the second argument of issubdtype from `float` to `np.floating` is deprecated. In future, it will be treated as `np.float64 == np.dtype(float).type`.\n",
      "  from ._conv import register_converters as _register_converters\n"
     ]
    }
   ],
   "source": [
    "# Import required modules \n",
    "from __future__ import print_function\n",
    "import numpy as np\n",
    "import tensorflow as tf\n",
    "from six.moves import cPickle as pickle\n",
    "from six.moves import range\n",
    "from time import time\n",
    "import matplotlib.pyplot as plt\n",
    "\n",
    "# Config the matplotlib backend as plotting inline in IPython\n",
    "%matplotlib inline"
   ]
  },
  {
   "cell_type": "markdown",
   "metadata": {},
   "source": [
    "\n",
    "First reload the pre-processed datasets that was generated previously.  "
   ]
  },
  {
   "cell_type": "code",
   "execution_count": 3,
   "metadata": {},
   "outputs": [
    {
     "name": "stdout",
     "output_type": "stream",
     "text": [
      "Training set (200000, 28, 28) (200000,)\n",
      "Sanitized Training set (195307, 28, 28) (195307,)\n",
      "Validation set (10000, 28, 28) (10000,)\n",
      "Test set (10000, 28, 28) (10000,)\n"
     ]
    }
   ],
   "source": [
    "pickle_file = 'notMNIST.pickle'\n",
    "\n",
    "with open(pickle_file, 'rb') as f:\n",
    "  save = pickle.load(f)\n",
    "  train_dataset = save['train_dataset']\n",
    "  train_labels = save['train_labels']\n",
    "  valid_dataset = save['valid_dataset']\n",
    "  valid_labels = save['valid_labels']\n",
    "  test_dataset = save['test_dataset']\n",
    "  test_labels = save['test_labels']\n",
    "  sanitized_train_dataset = save['sanitized_train_dataset']\n",
    "  sanitized_train_labels = save['sanitized_train_labels']\n",
    "  del save  # hint to help gc free up memory\n",
    "  print('Training set', train_dataset.shape, train_labels.shape)\n",
    "  print('Sanitized Training set', sanitized_train_dataset.shape, sanitized_train_labels.shape)\n",
    "  print('Validation set', valid_dataset.shape, valid_labels.shape)\n",
    "  print('Test set', test_dataset.shape, test_labels.shape)"
   ]
  },
  {
   "cell_type": "markdown",
   "metadata": {},
   "source": [
    "Reformat datasets into shapes to support the model algorithms: feature data as a flat matrix; labels as float 1-hot encodings."
   ]
  },
  {
   "cell_type": "code",
   "execution_count": 4,
   "metadata": {},
   "outputs": [
    {
     "name": "stdout",
     "output_type": "stream",
     "text": [
      "Training set (200000, 784) (200000, 10)\n",
      "Validation set (10000, 784) (10000, 10)\n",
      "Test set (10000, 784) (10000, 10)\n"
     ]
    }
   ],
   "source": [
    "image_size = 28\n",
    "num_labels = 10\n",
    "\n",
    "def reformat(dataset, labels):\n",
    "  # Flatten image arrays into 1D arrays. Another flatten option uses the np array\n",
    "  # raveled method in project 1 logistic regression model pre-processing \n",
    "  dataset = dataset.reshape((-1, image_size * image_size)).astype(np.float32)\n",
    "  # 1-hot encodings for classifier labels\n",
    "  # Map 0 to [1.0, 0.0, 0.0 ...], 1 to [0.0, 1.0, 0.0 ...]\n",
    "  # labels = (np.arange(num_labels) == labels[:,None]).astype(np.float32)\n",
    "  # Alternate 1-hot encodings implementation\n",
    "  # Establish np array based on the size (shape) of the label dataset and the number of classification labels\n",
    "  # .shape returns shape tuple object; .shape[] returns shape integer values\n",
    "  label_one_hot_array = np.zeros((labels.shape[0],num_labels))\n",
    "  # Set the np array location value to one (1) based on the label classifer value\n",
    "  label_one_hot_array[np.arange(labels.shape[0]),labels]=1.0\n",
    "  # Update labels np array with one_hot_encoding array\n",
    "  labels = label_one_hot_array\n",
    "  return dataset, labels\n",
    "train_dataset, train_labels = reformat(train_dataset, train_labels)\n",
    "valid_dataset, valid_labels = reformat(valid_dataset, valid_labels)\n",
    "test_dataset, test_labels = reformat(test_dataset, test_labels)\n",
    "print('Training set', train_dataset.shape, train_labels.shape)\n",
    "print('Validation set', valid_dataset.shape, valid_labels.shape)\n",
    "print('Test set', test_dataset.shape, test_labels.shape)"
   ]
  },
  {
   "cell_type": "markdown",
   "metadata": {},
   "source": [
    "First a multi-classification logistic regression algorithm will be BATCHED trained using simple gradient descent.\n"
   ]
  },
  {
   "cell_type": "code",
   "execution_count": 5,
   "metadata": {
    "collapsed": true
   },
   "outputs": [],
   "source": [
    "# With gradient descent training, even this much data is prohibitive.\n",
    "# Subset the training data for faster turnaround.\n",
    "train_subset = 10000\n",
    "\n",
    "graph = tf.Graph()\n",
    "with graph.as_default():\n",
    "\n",
    "  # Input data.\n",
    "  # Load the training, validation and test data as Tensorflow constants that are\n",
    "  # attached to the graph for batch training\n",
    "  tf_train_dataset = tf.constant(train_dataset[:train_subset, :])\n",
    "  tf_train_labels = tf.constant(train_labels[:train_subset])\n",
    "  tf_valid_dataset = tf.constant(valid_dataset)\n",
    "  tf_test_dataset = tf.constant(test_dataset)\n",
    "  \n",
    "  # Variables.\n",
    "  # These are the parameters that are going to be training. The weight\n",
    "  # matrix will be initialized using random values following a (truncated)\n",
    "  # normal distribution.\n",
    "  weights = tf.Variable( tf.truncated_normal([image_size * image_size, num_labels]))\n",
    "  # The biases get initialized to zero based on the number of labels.\n",
    "  biases = tf.Variable(tf.zeros([num_labels]))\n",
    "  \n",
    "  # Training computation.\n",
    "  # Mutltiply the inputs with the weight matrix, and add biases. \n",
    "  logits = tf.add(tf.matmul(tf_train_dataset, weights),biases)\n",
    "\n",
    "  # Then, compute the softmax and cross-entropy \n",
    "  loss = tf.reduce_mean(tf.nn.softmax_cross_entropy_with_logits(labels=tf_train_labels, logits=logits))\n",
    "  \n",
    "  # Define the Optimizer \n",
    "  # We are going to find the minimum of this loss using gradient descent.\n",
    "  optimizer = tf.train.GradientDescentOptimizer(0.5).minimize(loss)\n",
    "  \n",
    "  # Predictions for the training, validation, and test data.\n",
    "  # These are not part of training, but merely here so that we can report\n",
    "  # accuracy figures as we train.\n",
    "  train_prediction = tf.nn.softmax(logits)\n",
    "  valid_prediction = tf.nn.softmax(\n",
    "    tf.matmul(tf_valid_dataset, weights) + biases)\n",
    "  test_prediction = tf.nn.softmax(tf.matmul(tf_test_dataset, weights) + biases)"
   ]
  },
  {
   "cell_type": "markdown",
   "metadata": {},
   "source": [
    " Run this computation and iterate"
   ]
  },
  {
   "cell_type": "code",
   "execution_count": 6,
   "metadata": {},
   "outputs": [
    {
     "name": "stdout",
     "output_type": "stream",
     "text": [
      "Initialized\n",
      "Loss at step 0: 16.199747\n",
      "Training accuracy: 16.6%\n",
      "Validation accuracy: 19.1%\n",
      "Loss at step 100: 2.329664\n",
      "Training accuracy: 71.7%\n",
      "Validation accuracy: 70.6%\n",
      "Loss at step 200: 1.849432\n",
      "Training accuracy: 75.1%\n",
      "Validation accuracy: 72.9%\n",
      "Loss at step 300: 1.597965\n",
      "Training accuracy: 76.3%\n",
      "Validation accuracy: 73.6%\n",
      "Loss at step 400: 1.432955\n",
      "Training accuracy: 77.2%\n",
      "Validation accuracy: 74.0%\n",
      "Loss at step 500: 1.312914\n",
      "Training accuracy: 77.8%\n",
      "Validation accuracy: 74.2%\n",
      "Loss at step 600: 1.219750\n",
      "Training accuracy: 78.4%\n",
      "Validation accuracy: 74.4%\n",
      "Loss at step 700: 1.144350\n",
      "Training accuracy: 78.9%\n",
      "Validation accuracy: 74.6%\n",
      "Loss at step 800: 1.081616\n",
      "Training accuracy: 79.5%\n",
      "Validation accuracy: 74.7%\n",
      "Test accuracy: 82.4%\n"
     ]
    }
   ],
   "source": [
    "num_steps = 801\n",
    "\n",
    "def accuracy(predictions, labels):\n",
    "  return (100.0 * np.sum(np.argmax(predictions, 1) == np.argmax(labels, 1))\n",
    "          / predictions.shape[0])\n",
    "\n",
    "with tf.Session(graph=graph) as session:\n",
    "  # This is a one-time operation which ensures the parameters get initialized as\n",
    "  # we described in the graph: random weights for the matrix, zeros for the\n",
    "  # biases. \n",
    "  tf.global_variables_initializer().run()\n",
    "  print('Initialized')\n",
    "  for step in range(num_steps):\n",
    "    # Run the computations. We tell .run() that we want to run the optimizer,\n",
    "    # and get the loss value and the training predictions returned as numpy\n",
    "    # arrays.\n",
    "    _, l, predictions = session.run([optimizer, loss, train_prediction])\n",
    "    if (step % 100 == 0):\n",
    "      print('Loss at step %d: %f' % (step, l))\n",
    "      print('Training accuracy: %.1f%%' % accuracy(\n",
    "        predictions, train_labels[:train_subset, :]))\n",
    "      # Calling .eval() on valid_prediction is basically like calling run(), but\n",
    "      # just to get that one numpy array. Note that it recomputes all its graph\n",
    "      # dependencies.\n",
    "      print('Validation accuracy: %.1f%%' % accuracy(\n",
    "        valid_prediction.eval(), valid_labels))\n",
    "  print('Test accuracy: %.1f%%' % accuracy(test_prediction.eval(), test_labels))"
   ]
  },
  {
   "cell_type": "markdown",
   "metadata": {},
   "source": [
    "Mini-BATCH stochastic gradient descent training which converges much faster.\n",
    "\n",
    "The graph will be similar, except that instead of holding all the training data into a constant node, we create a Placeholder node which will be fed actual data at every call of session.run()."
   ]
  },
  {
   "cell_type": "code",
   "execution_count": 7,
   "metadata": {
    "collapsed": true
   },
   "outputs": [],
   "source": [
    "batch_size = 128\n",
    "\n",
    "graph = tf.Graph()\n",
    "with graph.as_default():\n",
    "\n",
    "  # Input data. For the training data, we use a placeholder that will be fed\n",
    "  # at run time with a training minibatch.\n",
    "  tf_train_dataset = tf.placeholder(tf.float32,\n",
    "                                    shape=(batch_size, image_size * image_size))\n",
    "  tf_train_labels = tf.placeholder(tf.float32, shape=(batch_size, num_labels))\n",
    "  tf_valid_dataset = tf.constant(valid_dataset)\n",
    "  tf_test_dataset = tf.constant(test_dataset)\n",
    "  \n",
    "  # Variables.\n",
    "  weights = tf.Variable(\n",
    "    tf.truncated_normal([image_size * image_size, num_labels]))\n",
    "  biases = tf.Variable(tf.zeros([num_labels]))\n",
    "  \n",
    "  # Training computation.\n",
    "  logits = tf.matmul(tf_train_dataset, weights) + biases\n",
    "  loss = tf.reduce_mean(\n",
    "    tf.nn.softmax_cross_entropy_with_logits(labels=tf_train_labels, logits=logits))\n",
    "  \n",
    "  # Optimizer.\n",
    "  optimizer = tf.train.GradientDescentOptimizer(0.5).minimize(loss)\n",
    "  \n",
    "  # Predictions for the training, validation, and test data.\n",
    "  train_prediction = tf.nn.softmax(logits)\n",
    "  valid_prediction = tf.nn.softmax(\n",
    "    tf.matmul(tf_valid_dataset, weights) + biases)\n",
    "  test_prediction = tf.nn.softmax(tf.matmul(tf_test_dataset, weights) + biases)"
   ]
  },
  {
   "cell_type": "code",
   "execution_count": 8,
   "metadata": {},
   "outputs": [
    {
     "name": "stdout",
     "output_type": "stream",
     "text": [
      "Initialized\n",
      "Minibatch loss at step 0: 19.506784\n",
      "Minibatch accuracy: 3.9%\n",
      "Validation accuracy: 6.9%\n",
      "Minibatch loss at step 500: 1.351603\n",
      "Minibatch accuracy: 77.3%\n",
      "Validation accuracy: 75.2%\n",
      "Minibatch loss at step 1000: 1.392477\n",
      "Minibatch accuracy: 75.0%\n",
      "Validation accuracy: 76.6%\n",
      "Minibatch loss at step 1500: 0.868113\n",
      "Minibatch accuracy: 81.2%\n",
      "Validation accuracy: 77.0%\n",
      "Minibatch loss at step 2000: 0.763967\n",
      "Minibatch accuracy: 85.9%\n",
      "Validation accuracy: 77.6%\n",
      "Minibatch loss at step 2500: 0.960233\n",
      "Minibatch accuracy: 77.3%\n",
      "Validation accuracy: 78.0%\n",
      "Minibatch loss at step 3000: 0.941645\n",
      "Minibatch accuracy: 76.6%\n",
      "Validation accuracy: 79.3%\n",
      "Test accuracy: 86.7%\n"
     ]
    }
   ],
   "source": [
    "num_steps = 3001\n",
    "\n",
    "with tf.Session(graph=graph) as session:\n",
    "  tf.global_variables_initializer().run()\n",
    "  print(\"Initialized\")\n",
    "  for step in range(num_steps):\n",
    "    # Pick an offset within the training data, which has been randomized.\n",
    "    # Note: we could use better randomization across epochs.\n",
    "    offset = (step * batch_size) % (train_labels.shape[0] - batch_size)\n",
    "    # Generate a minibatch.\n",
    "    batch_data = train_dataset[offset:(offset + batch_size), :]\n",
    "    batch_labels = train_labels[offset:(offset + batch_size), :]\n",
    "    # Prepare a dictionary telling the session where to feed the minibatch.\n",
    "    # The key of the dictionary is the placeholder node of the graph to be fed,\n",
    "    # and the value is the numpy array to feed to it.\n",
    "    feed_dict = {tf_train_dataset : batch_data, tf_train_labels : batch_labels}\n",
    "    _, l, predictions = session.run(\n",
    "      [optimizer, loss, train_prediction], feed_dict=feed_dict)\n",
    "    if (step % 500 == 0):\n",
    "      print(\"Minibatch loss at step %d: %f\" % (step, l))\n",
    "      print(\"Minibatch accuracy: %.1f%%\" % accuracy(predictions, batch_labels))\n",
    "      print(\"Validation accuracy: %.1f%%\" % accuracy(\n",
    "        valid_prediction.eval(), valid_labels))\n",
    "  print(\"Test accuracy: %.1f%%\" % accuracy(test_prediction.eval(), test_labels))"
   ]
  },
  {
   "cell_type": "markdown",
   "metadata": {},
   "source": [
    "Turn the logistic regression model algorithm with SGD into a 1-hidden layer neural network with rectified linear units nn.relu() and 1024 hidden nodes. "
   ]
  },
  {
   "cell_type": "code",
   "execution_count": 9,
   "metadata": {
    "collapsed": true
   },
   "outputs": [],
   "source": [
    "\"\"\"Establish Subset of Training Data for neural network\"\"\"\n",
    "train_subset_size = 10000\n",
    "train_sub_dataset = train_dataset[:train_subset_size, :]\n",
    "train_sub_labels = train_labels[:train_subset_size]"
   ]
  },
  {
   "cell_type": "code",
   "execution_count": 10,
   "metadata": {
    "collapsed": true
   },
   "outputs": [],
   "source": [
    "\"\"\"Establish graph session placeholders for unsanitized dataset\"\"\"\n",
    "\n",
    "# Declare feature data placeholder\n",
    "x_data = tf.placeholder(shape = [train_sub_dataset.shape[1]], dtype=tf.float32)\n",
    "\n",
    "# Declare target placeholder\n",
    "y_target = tf.placeholder(shape = [1,train_sub_labels.shape[1]], dtype=tf.float32)\n",
    "\n",
    "# Establish 2D vector for the model input data\n",
    "x_data_2D = tf.expand_dims(x_data,0)"
   ]
  },
  {
   "cell_type": "code",
   "execution_count": 11,
   "metadata": {
    "collapsed": true
   },
   "outputs": [],
   "source": [
    "\"\"\"Define functions for initializing hidden layer weights and bias variables\"\"\"\n",
    "\n",
    "def init_weight(shape, st_dev):\n",
    "    weight = tf.Variable(tf.random_normal(shape, stddev=st_dev))\n",
    "    return (weight)\n",
    "\n",
    "def init_bias(shape, st_dev):\n",
    "    bias = tf.Variable(tf.random_normal(shape, stddev=st_dev))\n",
    "    return (bias)"
   ]
  },
  {
   "cell_type": "code",
   "execution_count": 12,
   "metadata": {
    "collapsed": true
   },
   "outputs": [],
   "source": [
    "\"\"\"Define function for fully connecting hidden layers with rectified linear unit (ReLU) activation function\n",
    "    TensorFlow ML Cookbook p 172\"\"\"\n",
    "\n",
    "def fully_connect(input_layer, weights, biases, activation):\n",
    "    layer = tf.add(tf.matmul(input_layer, weights),biases)\n",
    "    if (activation == True):\n",
    "        # Apply ReLU activation functions only for hidden layer output\n",
    "        return (tf.nn.relu(layer))\n",
    "    else:\n",
    "        # Sigmoid activation function applied with loss function for output layer\n",
    "        return (layer)"
   ]
  },
  {
   "cell_type": "code",
   "execution_count": 13,
   "metadata": {
    "collapsed": true
   },
   "outputs": [],
   "source": [
    "\"\"\"Define the training model algorithm for single layer artifical neural network with unsanitized dataset\"\"\"\n",
    "\n",
    "# Define number of layer hidden nodes\n",
    "layer_1_nodes = 1024\n",
    "\n",
    "# Create first layer with 1024 hidden nodes bases on the image sizes (data dataset)\n",
    "weight_1 = init_weight(shape= [train_sub_dataset.shape[1],layer_1_nodes], st_dev = 10.0)\n",
    "bias_1 = init_bias(shape= [layer_1_nodes], st_dev = 10.0)\n",
    "layer_1_activate = fully_connect(x_data_2D, weight_1, bias_1, activation = True)\n",
    "\n",
    "\n",
    "# Create output layer based on the number of classification labels (training labels dataset)\n",
    "weight_output = init_weight(shape= [layer_1_nodes, train_labels.shape[1]], st_dev = 10.0)\n",
    "bias_output = init_bias(shape= [1,train_labels.shape[1]], st_dev = 10.0)\n",
    "model_output_logits = fully_connect(layer_1_activate, weight_output, bias_output, activation = False)\n",
    "\n",
    "# Establish learning rate\n",
    "learning_rate = 0.001\n",
    "\n",
    "# Define loss function\n",
    "loss = tf.reduce_mean(tf.nn.sigmoid_cross_entropy_with_logits(labels = y_target, logits = model_output_logits))\n",
    "\n",
    "# Define optimizer function\n",
    "\n",
    "my_opt = tf.train.GradientDescentOptimizer(learning_rate = learning_rate)\n",
    "train_step = my_opt.minimize(loss)\n",
    "\n",
    "# Prediction Function\n",
    "prediction = tf.sigmoid(model_output_logits)"
   ]
  },
  {
   "cell_type": "code",
   "execution_count": 14,
   "metadata": {},
   "outputs": [
    {
     "name": "stdout",
     "output_type": "stream",
     "text": [
      "Train Model Over 10000 Images\n",
      "Training Observation #250 Loss = 3444.25732421875\n",
      "Training Observation #500 Loss = 0.0\n",
      "Training Observation #750 Loss = 5902.67529296875\n",
      "Training Observation #1000 Loss = 1.0445242534785286e-28\n",
      "Training Observation #1250 Loss = 0.0\n",
      "Training Observation #1500 Loss = 750.764404296875\n",
      "Training Observation #1750 Loss = 0.0\n",
      "Training Observation #2000 Loss = 0.0\n",
      "Training Observation #2250 Loss = 183.94268798828125\n",
      "Training Observation #2500 Loss = 0.0\n",
      "Training Observation #2750 Loss = 5288.94873046875\n",
      "Training Observation #3000 Loss = 108.20601654052734\n",
      "Training Observation #3250 Loss = 19.477169036865234\n",
      "Training Observation #3500 Loss = 139.33685302734375\n",
      "Training Observation #3750 Loss = 792.3591918945312\n",
      "Training Observation #4000 Loss = 2239.9921875\n",
      "Training Observation #4250 Loss = 0.0\n",
      "Training Observation #4500 Loss = 2099.8291015625\n",
      "Training Observation #4750 Loss = 0.0\n",
      "Training Observation #5000 Loss = 0.0\n",
      "Training Observation #5250 Loss = 647.4070434570312\n",
      "Training Observation #5500 Loss = 0.0\n",
      "Training Observation #5750 Loss = 2389.50146484375\n",
      "Training Observation #6000 Loss = 0.0\n",
      "Training Observation #6250 Loss = 0.0\n",
      "Training Observation #6500 Loss = 0.0\n",
      "Training Observation #6750 Loss = 0.0\n",
      "Training Observation #7000 Loss = 625.7271728515625\n",
      "Training Observation #7250 Loss = 0.0\n",
      "Training Observation #7500 Loss = 0.0\n",
      "Training Observation #7750 Loss = 0.0\n",
      "Training Observation #8000 Loss = 1326.349853515625\n",
      "Training Observation #8250 Loss = 0.0\n",
      "Training Observation #8500 Loss = 0.0\n",
      "Training Observation #8750 Loss = 244.8505859375\n",
      "Training Observation #9000 Loss = 0.0\n",
      "Training Observation #9250 Loss = 0.0\n",
      "Training Observation #9500 Loss = 673.7376708984375\n",
      "Training Observation #9750 Loss = 2434.23291015625\n",
      "Training Observation #10000 Loss = 2944.06884765625\n",
      "Overall Training Accuracy: 0.91122\n"
     ]
    }
   ],
   "source": [
    "\"\"\"Establish graph session for stochastic training for image classification with the unsanitized\"\"\"\n",
    "\n",
    "# logistic regression model algorithm\n",
    "\n",
    "sess = tf.Session()\n",
    "init = tf.global_variables_initializer()\n",
    "sess.run(init)\n",
    "\n",
    "\n",
    "# Define loss and training accuracy lists variables\n",
    "loss_vec_list = []\n",
    "train_acc_all_list = []\n",
    "train_acc_avg_list = []\n",
    "\n",
    "print('Train Model Over {} Images'.format(train_sub_dataset.shape[0]))\n",
    "\n",
    "# loop for graph training session\n",
    "for ix, t in enumerate(train_sub_dataset):\n",
    "    # Establish training target data as a 2D np arrary for a session placeholder\n",
    "    y_data = np.array([train_sub_labels[ix]])\n",
    "    # Run stochastic graph training session\n",
    "    sess.run(train_step, feed_dict = {x_data:t, y_target:y_data})\n",
    "    # Run graph session to determine loss function for each generation\n",
    "    temp_loss = sess.run(loss, feed_dict = {x_data:t, y_target:y_data})\n",
    "    # Save generation loss value in list\n",
    "    loss_vec_list.append(temp_loss)\n",
    "    # Make single prediction\n",
    "    [temp_pred] = sess.run(prediction, feed_dict = {x_data:t, y_target:y_data})\n",
    "    # Determine single prediction accuracy with boolean True/False outcome\n",
    "    train_acc_temp = train_sub_labels[ix]==np.round(temp_pred)\n",
    "    train_acc_all_list.append(train_acc_temp)\n",
    "    # Keeep trailing average of past 50 accuracy observations\n",
    "    if (len(train_acc_all_list) >= 50):\n",
    "        train_acc_avg_list.append(np.mean(train_acc_all_list[-50:]))\n",
    "    # Display training outcome results from each 250 set of generation\n",
    "    if ((ix+1)%250 == 0):\n",
    "        print('Training Observation #{} Loss = {}'.format((ix+1), temp_loss))\n",
    "        \n",
    "            \n",
    "# Display training accuracy results\n",
    "print('Overall Training Accuracy: {}'.format(np.mean(train_acc_all_list)))"
   ]
  },
  {
   "cell_type": "code",
   "execution_count": 15,
   "metadata": {},
   "outputs": [
    {
     "data": {
      "image/png": "[encoded data removed]",
      "text/plain": [
       "<matplotlib.figure.Figure at 0x18596afaf60>"
      ]
     },
     "metadata": {},
     "output_type": "display_data"
    }
   ],
   "source": [
    "\"\"\"Visualize model loss values\"\"\"\n",
    "\n",
    "#Plot Losses\n",
    "plt.plot(loss_vec_list, 'k-')\n",
    "plt.title('Loss Values per Generation', fontsize = 20)\n",
    "plt.xlabel('Generations')\n",
    "plt.ylabel('Losses')\n",
    "plt.show()"
   ]
  },
  {
   "cell_type": "code",
   "execution_count": 16,
   "metadata": {},
   "outputs": [
    {
     "data": {
      "image/png": "[encoded data removed]",
      "text/plain": [
       "<matplotlib.figure.Figure at 0x1858dd05748>"
      ]
     },
     "metadata": {},
     "output_type": "display_data"
    }
   ],
   "source": [
    "\"\"\"Visualize training prediction accurary\"\"\"\n",
    "\n",
    "#Plot Losses\n",
    "plt.plot(train_acc_avg_list, 'k-')\n",
    "plt.title('Average Training Prediction Accuracy over Sliding 50 Observation Window', fontsize = 20)\n",
    "plt.xlabel('Observation Windows')\n",
    "plt.ylabel('Accuracy')\n",
    "plt.show()"
   ]
  },
  {
   "cell_type": "code",
   "execution_count": 17,
   "metadata": {},
   "outputs": [
    {
     "name": "stdout",
     "output_type": "stream",
     "text": [
      "Validation Testings Over 10000 Images\n",
      "Overall Validation Accuracy: 0.94262\n"
     ]
    }
   ],
   "source": [
    "\"\"\"Establish graph session for 1 - Layer neural network model validation testing post unsanitized dataset training\"\"\"\n",
    "\n",
    "# Define validation accuracy lists variable\n",
    "test_acc_all_list = []\n",
    "\n",
    "print('Validation Testings Over {} Images'.format(test_dataset.shape[0]))\n",
    "\n",
    "# loop graph session for NLP logistic regression model validation testing\n",
    "for ix, t in enumerate(test_dataset):\n",
    "    # Establish test target data as 2D np.array for session placeholder\n",
    "    y_data = np.array([test_labels[ix]])\n",
    "    # Make single prediction\n",
    "    [temp_pred] = sess.run(prediction, feed_dict = {x_data:t, y_target:y_data})\n",
    "    # Determine single prediction accuracy with boolean True/False outcome\n",
    "    test_acc_temp = test_labels[ix]==np.round(temp_pred)\n",
    "    test_acc_all_list.append(test_acc_temp)\n",
    "  \n",
    "            \n",
    "# Display validation accuracy results\n",
    "print('Overall Validation Accuracy: {}'.format(np.mean(test_acc_all_list)))"
   ]
  },
  {
   "cell_type": "code",
   "execution_count": 18,
   "metadata": {},
   "outputs": [
    {
     "name": "stdout",
     "output_type": "stream",
     "text": [
      "Sanitized Training set (195307, 784) (195307, 10)\n"
     ]
    }
   ],
   "source": [
    "\"\"\"Reformat sanitized datasets and labels (no duplicate images between the training/validate/test) into shapes to support the \n",
    "model algorithms: feature data as a flat matrix; labels as float 1-hot encodings\"\"\"\n",
    "\n",
    "sanitized_train_dataset, sanitized_train_labels = reformat(sanitized_train_dataset, sanitized_train_labels)\n",
    "print('Sanitized Training set', sanitized_train_dataset.shape, sanitized_train_labels.shape)"
   ]
  },
  {
   "cell_type": "code",
   "execution_count": 54,
   "metadata": {
    "collapsed": true
   },
   "outputs": [],
   "source": [
    "\"\"\"Establish Subset of Sanitized Training Data for neural network\"\"\"\n",
    "sanit_train_subset_size = 5000\n",
    "sanit_train_sub_dataset = sanitized_train_dataset[:sanit_train_subset_size, :]\n",
    "sanit_train_sub_labels = sanitized_train_labels[:sanit_train_subset_size]"
   ]
  },
  {
   "cell_type": "code",
   "execution_count": 55,
   "metadata": {
    "collapsed": true
   },
   "outputs": [],
   "source": [
    "\"\"\"Establish graph session placeholders for sanitized dataset\"\"\"\n",
    "\n",
    "# Declare feature data placeholder\n",
    "x_data = tf.placeholder(shape = [sanit_train_sub_dataset.shape[1]], dtype=tf.float32)\n",
    "\n",
    "# Declare target placeholder\n",
    "y_target = tf.placeholder(shape = [1,sanit_train_sub_labels.shape[1]], dtype=tf.float32)\n",
    "\n",
    "# Establish 2D vector for the model input data\n",
    "x_data_2D = tf.expand_dims(x_data,0)"
   ]
  },
  {
   "cell_type": "code",
   "execution_count": 56,
   "metadata": {},
   "outputs": [],
   "source": [
    "\"\"\"Define the training model algorithm for single layer artifical neural network with sanitized dataset\"\"\"\n",
    "\n",
    "# Define number of layer hidden nodes\n",
    "layer_1_nodes = 1024\n",
    "\n",
    "# Create first layer with 1024 hidden nodes bases on the image sizes (data dataset)\n",
    "weight_1 = init_weight(shape= [sanit_train_sub_dataset.shape[1],layer_1_nodes], st_dev = 10.0)\n",
    "bias_1 = init_bias(shape= [layer_1_nodes], st_dev = 10.0)\n",
    "layer_1_activate = fully_connect(x_data_2D, weight_1, bias_1, activation = True)\n",
    "\n",
    "\n",
    "# Create output layer based on the number of classification labels (training labels dataset)\n",
    "weight_output = init_weight(shape= [layer_1_nodes, sanit_train_sub_labels.shape[1]], st_dev = 10.0)\n",
    "bias_output = init_bias(shape= [1,sanit_train_sub_labels.shape[1]], st_dev = 10.0)\n",
    "model_output_logits = fully_connect(layer_1_activate, weight_output, bias_output, activation = False)\n",
    "\n",
    "# Establish learning rate\n",
    "learning_rate = 0.001\n",
    "\n",
    "# Define loss function\n",
    "loss = tf.reduce_mean(tf.nn.sigmoid_cross_entropy_with_logits(labels = y_target, logits = model_output_logits))\n",
    "\n",
    "# Define optimizer function\n",
    "\n",
    "my_opt = tf.train.GradientDescentOptimizer(learning_rate = learning_rate)\n",
    "train_step = my_opt.minimize(loss)\n",
    "\n",
    "# Prediction Function\n",
    "prediction = tf.sigmoid(model_output_logits)"
   ]
  },
  {
   "cell_type": "code",
   "execution_count": 57,
   "metadata": {},
   "outputs": [
    {
     "name": "stdout",
     "output_type": "stream",
     "text": [
      "Train Model Over 5000 Images\n",
      "Sanitized Training Observation #250 Loss = 1736.2015380859375\n",
      "Sanitized Training Observation #500 Loss = 0.0\n",
      "Sanitized Training Observation #750 Loss = 0.0\n",
      "Sanitized Training Observation #1000 Loss = 0.0\n",
      "Sanitized Training Observation #1250 Loss = 0.0\n",
      "Sanitized Training Observation #1500 Loss = 0.0\n",
      "Sanitized Training Observation #1750 Loss = 0.0\n",
      "Sanitized Training Observation #2000 Loss = 1008.8352661132812\n",
      "Sanitized Training Observation #2250 Loss = 0.0\n",
      "Sanitized Training Observation #2500 Loss = 0.0\n",
      "Sanitized Training Observation #2750 Loss = 0.0\n",
      "Sanitized Training Observation #3000 Loss = 0.0\n",
      "Sanitized Training Observation #3250 Loss = 0.0\n",
      "Sanitized Training Observation #3500 Loss = 0.0\n",
      "Sanitized Training Observation #3750 Loss = 0.0\n",
      "Sanitized Training Observation #4000 Loss = 965.4622802734375\n",
      "Sanitized Training Observation #4250 Loss = 0.0\n",
      "Sanitized Training Observation #4500 Loss = 0.0\n",
      "Sanitized Training Observation #4750 Loss = 0.0\n",
      "Sanitized Training Observation #5000 Loss = 0.0\n",
      "Overall Sanitized Training Accuracy: 0.9791\n"
     ]
    }
   ],
   "source": [
    "\"\"\"Establish graph session for stochastic training for image classification with the sanitized\"\"\"\n",
    "\n",
    "# logistic regression model algorithm\n",
    "\n",
    "sess = tf.Session()\n",
    "init = tf.global_variables_initializer()\n",
    "sess.run(init)\n",
    "\n",
    "\n",
    "# Define loss and training accuracy lists variables\n",
    "loss_vec_list = []\n",
    "train_acc_all_list = []\n",
    "train_acc_avg_list = []\n",
    "\n",
    "print('Train Model Over {} Images'.format(sanit_train_sub_dataset.shape[0]))\n",
    "\n",
    "# loop for graph training session\n",
    "for ix, t in enumerate(sanit_train_sub_dataset):\n",
    "    # Establish training target data as a 2D np arrary for a session placeholder\n",
    "    y_data = np.array([sanit_train_sub_labels[ix]])\n",
    "    # Run stochastic graph training session\n",
    "    sess.run(train_step, feed_dict = {x_data:t, y_target:y_data})\n",
    "    # Run graph session to determine loss function for each generation\n",
    "    temp_loss = sess.run(loss, feed_dict = {x_data:t, y_target:y_data})\n",
    "    # Save generation loss value in list\n",
    "    loss_vec_list.append(temp_loss)\n",
    "    # Make single prediction\n",
    "    [temp_pred] = sess.run(prediction, feed_dict = {x_data:t, y_target:y_data})\n",
    "    # Determine single prediction accuracy with boolean True/False outcome\n",
    "    train_acc_temp = sanit_train_sub_labels[ix]==np.round(temp_pred)\n",
    "    train_acc_all_list.append(train_acc_temp)\n",
    "    # Keeep trailing average of past 50 accuracy observations\n",
    "    if (len(train_acc_all_list) >= 50):\n",
    "        train_acc_avg_list.append(np.mean(train_acc_all_list[-50:]))\n",
    "    # Display training outcome results from each 250 set of generation\n",
    "    if ((ix+1)%250 == 0):\n",
    "        print('Sanitized Training Observation #{} Loss = {}'.format((ix+1), temp_loss))\n",
    "        \n",
    "            \n",
    "# Display training accuracy results\n",
    "print('Overall Sanitized Training Accuracy: {}'.format(np.mean(train_acc_all_list)))"
   ]
  },
  {
   "cell_type": "code",
   "execution_count": 58,
   "metadata": {},
   "outputs": [
    {
     "data": {
      "image/png": "[encoded data removed]",
      "text/plain": [
       "<matplotlib.figure.Figure at 0x185803ff400>"
      ]
     },
     "metadata": {},
     "output_type": "display_data"
    }
   ],
   "source": [
    "\"\"\"Visualize sanitized model loss values\"\"\"\n",
    "\n",
    "#Plot Losses\n",
    "plt.plot(loss_vec_list, 'k-')\n",
    "plt.title('Sanitized Loss Values per Generation', fontsize = 20)\n",
    "plt.xlabel('Generations')\n",
    "plt.ylabel('Losses')\n",
    "plt.show()"
   ]
  },
  {
   "cell_type": "code",
   "execution_count": 59,
   "metadata": {},
   "outputs": [
    {
     "data": {
      "image/png": "[encoded data removed]",
      "text/plain": [
       "<matplotlib.figure.Figure at 0x185803ff518>"
      ]
     },
     "metadata": {},
     "output_type": "display_data"
    }
   ],
   "source": [
    "\"\"\"Visualize sanitized training prediction accurary\"\"\"\n",
    "\n",
    "#Plot Losses\n",
    "plt.plot(train_acc_avg_list, 'k-')\n",
    "plt.title('Average Sanitized Training Prediction Accuracy over Sliding 50 Observation Window', fontsize = 20)\n",
    "plt.xlabel('Observation Windows')\n",
    "plt.ylabel('Accuracy')\n",
    "plt.show()"
   ]
  },
  {
   "cell_type": "code",
   "execution_count": 60,
   "metadata": {},
   "outputs": [
    {
     "name": "stdout",
     "output_type": "stream",
     "text": [
      "Validation Testings Over 10000 Images\n",
      "Overall Post Sanitized Validation Accuracy: 0.81019\n"
     ]
    }
   ],
   "source": [
    "\"\"\"Establish graph session for 1 - Layer neural network model validation testing post sanitized dataset training\"\"\"\n",
    "\n",
    "# Define validation accuracy lists variable\n",
    "test_acc_all_list = []\n",
    "\n",
    "print('Validation Testings Over {} Images'.format(test_dataset.shape[0]))\n",
    "\n",
    "# loop graph session for NLP logistic regression model validation testing\n",
    "for ix, t in enumerate(test_dataset):\n",
    "    # Establish test target data as 2D np.array for session placeholder\n",
    "    y_data = np.array([test_labels[ix]])\n",
    "    # Make single prediction\n",
    "    [temp_pred] = sess.run(prediction, feed_dict = {x_data:t, y_target:y_data})\n",
    "    # Determine single prediction accuracy with boolean True/False outcome\n",
    "    test_acc_temp = test_labels[ix]==np.round(temp_pred)\n",
    "    test_acc_all_list.append(test_acc_temp)\n",
    "  \n",
    "            \n",
    "# Display validation accuracy results\n",
    "print('Overall Post Sanitized Validation Accuracy: {}'.format(np.mean(test_acc_all_list)))"
   ]
  },
  {
   "cell_type": "code",
   "execution_count": null,
   "metadata": {
    "collapsed": true
   },
   "outputs": [],
   "source": []
  }
 ],
 "metadata": {
  "kernelspec": {
   "display_name": "Python 3",
   "language": "python",
   "name": "python3"
  },
  "language_info": {
   "codemirror_mode": {
    "name": "ipython",
    "version": 3
   },
   "file_extension": ".py",
   "mimetype": "text/x-python",
   "name": "python",
   "nbconvert_exporter": "python",
   "pygments_lexer": "ipython3",
   "version": "3.6.3"
  }
 },
 "nbformat": 4,
 "nbformat_minor": 2
}
