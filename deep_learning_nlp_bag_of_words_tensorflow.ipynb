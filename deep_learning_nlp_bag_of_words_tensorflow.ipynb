{
 "cells": [
  {
   "cell_type": "markdown",
   "metadata": {},
   "source": [
    "# Deep Learning Natural Language Processing (NLP) Project - Bag of Words Embedding in Tensorflow\n",
    "\n",
    "# Use bag-of-words technique with a SMS database to predict text classification as spam or ham (not spam) by applying stochastic training to a three (3) hidden layer artifical neural network with logistic regression "
   ]
  },
  {
   "cell_type": "code",
   "execution_count": 15,
   "metadata": {},
   "outputs": [],
   "source": [
    "\"\"\"import numpy, tensorflow, and matplotlib.pyplot modules\"\"\"\n",
    "\n",
    "import os\n",
    "import numpy as np\n",
    "import csv\n",
    "import string\n",
    "import requests\n",
    "import io\n",
    "from zipfile import ZipFile\n",
    "from tensorflow.contrib import learn\n",
    "import tensorflow as tf\n",
    "import matplotlib.pyplot as plt\n",
    "# from tensorflow.python.framework import ops"
   ]
  },
  {
   "cell_type": "code",
   "execution_count": 16,
   "metadata": {},
   "outputs": [
    {
     "name": "stdout",
     "output_type": "stream",
     "text": [
      "SMS text dataset already loaded\n"
     ]
    }
   ],
   "source": [
    "\"\"\" Download or read in text data \"\"\"\n",
    "\n",
    "# Establish and initialize text data, texts, and target lists\n",
    "text_data_list = []\n",
    "texts_list = []\n",
    "target_list = []\n",
    "\n",
    "# Define file root location where the jupyter program file is located\n",
    "data_root = '.'\n",
    "save_file_name = os.path.join(data_root,'temp_spam_data.csv')\n",
    "if (os.path.isfile(save_file_name)):\n",
    "    print('SMS text dataset already loaded')\n",
    "    text_data = []\n",
    "    with open(save_file_name, 'r') as temp_output_file:\n",
    "        reader = csv.reader(temp_output_file)\n",
    "        text_data_list = list(reader)\n",
    "        # Remove empty lists\n",
    "        text_data_list = [x for x in text_data_list if x != []]\n",
    "else:\n",
    "    print('Loading SMS text dataset')\n",
    "    zip_url = 'http://archive.ics.uci.edu/ml/machine-learning-databases/00228/smsspamcollection.zip'\n",
    "    r = requests.get(zip_url)\n",
    "    z = ZipFile(io.BytesIO(r.content))\n",
    "    file = z.read('SMSSpamCollection')\n",
    "    # Format Data\n",
    "    text_data_list = file.decode()\n",
    "    text_data_list = text_data_list.encode('ascii', errors='ignore')\n",
    "    text_data_list = text_data_list.decode().split('\\n')\n",
    "    text_data_list = [x.split('\\t') for x in text_data_list if len(x)>=1]\n",
    "    \n",
    "    # Write text data to csv\n",
    "    with open(save_file_name, 'w') as temp_output_file:\n",
    "        writer = csv.writer(temp_output_file)\n",
    "        writer.writerows(text_data)\n",
    "\n",
    "texts_list = [x[1] for x in text_data_list]\n",
    "target_list = [x[0] for x in text_data_list]\n",
    "# Relabel 'spam' as 1, 'ham' as 0\n",
    "target_list = [1 if x=='spam' else 0 for x in target_list]"
   ]
  },
  {
   "cell_type": "code",
   "execution_count": 17,
   "metadata": {
    "collapsed": true
   },
   "outputs": [],
   "source": [
    "\"\"\"pre-process the text data for building the bag-of-words vocabulary\"\"\"\n",
    "\n",
    "# Convert all letters to lower case\n",
    "texts_list = [x.lower() for x in texts_list]\n",
    "\n",
    "# Remove all punctuations\n",
    "texts_list = [''.join(c for c in x if c not in string.punctuation) for x in texts_list]\n",
    "\n",
    "# Remove all number characters\n",
    "texts_list = [''.join(c for c in x if c not in '0123456789') for x in texts_list]\n",
    "\n",
    "# Remove and time extra whitespace\n",
    "texts_list = [' '.join(x.split()) for x in texts_list]"
   ]
  },
  {
   "cell_type": "code",
   "execution_count": 18,
   "metadata": {
    "collapsed": true
   },
   "outputs": [],
   "source": [
    "\"\"\"Establish bag-of-words vocabulary from pre-processed text data\"\"\"\n",
    "\n",
    "# Declare sentence size\n",
    "sentence_size = 25\n",
    "\n",
    "# Declare minimun word frequency\n",
    "min_word_freq = 3\n",
    "\n",
    "vocab_processor = learn.preprocessing.VocabularyProcessor(sentence_size, min_frequency=min_word_freq)\n",
    "vocab_processor.fit_transform(texts_list)\n",
    "\n",
    "# Determine size of bag-of-word vocabulary\n",
    "embedding_size = len(vocab_processor.vocabulary_)"
   ]
  },
  {
   "cell_type": "code",
   "execution_count": 19,
   "metadata": {
    "collapsed": true
   },
   "outputs": [],
   "source": [
    "\"\"\"Establish 80%/20% training and validation datasets,respectively\"\"\"\n",
    "\n",
    "# Generate random indices from 80% of texts messages to establish the training dataset\n",
    "train_indices = np.random.choice(len(texts_list), round((0.8*len(texts_list))), replace=False)\n",
    "\n",
    "# Generate test data from the remaining text message indices\n",
    "test_indices = np.array(list(set(range(len(texts_list))) - set(train_indices)))\n",
    "\n",
    "# Generate text message training dataset list\n",
    "texts_train_list = [x for ix, x in enumerate(texts_list) if ix in train_indices]\n",
    "\n",
    "# Generate text message validation dataset list\n",
    "texts_test_list = [x for ix, x in enumerate(texts_list) if ix in test_indices]\n",
    "\n",
    "# Generate text message target classifications for training dataset list\n",
    "target_train_list = [x for ix, x in enumerate(target_list) if ix in train_indices]\n",
    "\n",
    "# Generate text message target classifications for validation dataset list\n",
    "target_test_list = [x for ix, x in enumerate(target_list) if ix in test_indices]"
   ]
  },
  {
   "cell_type": "code",
   "execution_count": 20,
   "metadata": {
    "collapsed": true
   },
   "outputs": [],
   "source": [
    "\"\"\"Define functions for initializing hidden layer weights and bias variables\"\"\"\n",
    "\n",
    "def init_weight(shape, st_dev):\n",
    "    weight = tf.Variable(tf.random_normal(shape, stddev=st_dev))\n",
    "    return (weight)\n",
    "\n",
    "def init_bias(shape, st_dev):\n",
    "    bias = tf.Variable(tf.random_normal(shape, stddev=st_dev))\n",
    "    return (bias)"
   ]
  },
  {
   "cell_type": "code",
   "execution_count": 21,
   "metadata": {
    "collapsed": true
   },
   "outputs": [],
   "source": [
    "\"\"\"Define function for fully connecting hidden layers with rectified linear unit (ReLU) activation function\n",
    "    TensorFlow ML Cookbook p 172\"\"\"\n",
    "\n",
    "def fully_connect(input_layer, weights, biases, activation):\n",
    "    layer = tf.add(tf.matmul(input_layer, weights),biases)\n",
    "    if (activation == True):\n",
    "        # Apply ReLU activation functions only for hidden layer output\n",
    "        return (tf.nn.relu(layer))\n",
    "    else:\n",
    "        # Sigmoid activation function applied with loss function for output layer\n",
    "        return (layer)"
   ]
  },
  {
   "cell_type": "code",
   "execution_count": 22,
   "metadata": {
    "collapsed": true
   },
   "outputs": [],
   "source": [
    "\"\"\"Establish graph session variables and placeholders; and text message sentence vector \"\"\"\n",
    "\n",
    "# Declare feature data placeholder\n",
    "x_data = tf.placeholder(shape = [sentence_size], dtype=tf.int32)\n",
    "\n",
    "# Declare classification target placeholder\n",
    "y_target = tf.placeholder(shape = [1,1], dtype=tf.float32)\n",
    "\n",
    "# Establish embedding matrix for bag-of-words \n",
    "\n",
    "# Define identity matrix based on the number of commom words in the text messages  \n",
    "identity_mat = tf.diag(tf.ones(shape=[embedding_size]))\n",
    "\n",
    "# Encode text message sentence words\n",
    "x_embed = tf.nn.embedding_lookup(identity_mat, x_data)\n",
    "\n",
    "# Generate text message sentence vector\n",
    "x_col_sums = tf.reduce_sum(x_embed,0)\n",
    "\n",
    "# Establish 2D sentence vector for model input\n",
    "x_col_sums_2D = tf.expand_dims(x_col_sums,0)"
   ]
  },
  {
   "cell_type": "code",
   "execution_count": 23,
   "metadata": {
    "collapsed": true
   },
   "outputs": [],
   "source": [
    "\"\"\"Define the training model algorithm for three layer artifical neural network\"\"\"\n",
    "\n",
    "# Define number of layer hidden nodes\n",
    "layer_1_nodes = 75\n",
    "layer_2_nodes = 15\n",
    "layer_3_nodes = 5\n",
    "\n",
    "\n",
    "# Create first layer with 75 hidden nodes\n",
    "weight_1 = init_weight(shape= [embedding_size,layer_1_nodes], st_dev = 10.0)\n",
    "bias_1 = init_bias(shape= [layer_1_nodes], st_dev = 10.0)\n",
    "layer_1 = fully_connect(x_col_sums_2D, weight_1, bias_1, activation = True)\n",
    "\n",
    "# Create second layer with 15 hidden nodes\n",
    "weight_2 = init_weight(shape= [layer_1_nodes, layer_2_nodes], st_dev = 10.0)\n",
    "bias_2 = init_bias(shape= [layer_2_nodes], st_dev = 10.0)\n",
    "layer_2 = fully_connect(layer_1, weight_2, bias_2, activation = True)\n",
    "\n",
    "# Create third layer with 5 hidden nodes\n",
    "weight_3 = init_weight(shape= [layer_2_nodes, layer_3_nodes], st_dev = 10.0)\n",
    "bias_3 = init_bias(shape= [layer_3_nodes], st_dev = 10.0)\n",
    "layer_3 = fully_connect(layer_2, weight_3, bias_3, activation = True)\n",
    "\n",
    "# Create output layer\n",
    "weight_4 = init_weight(shape= [layer_3_nodes, 1], st_dev = 10.0)\n",
    "bias_4 = init_bias(shape= [1,1], st_dev = 10.0)\n",
    "model_output = fully_connect(layer_3, weight_4, bias_4, activation = False)\n",
    "\n",
    "# Establish learning rate\n",
    "learning_rate = 0.001\n",
    "\n",
    "# Define loss function\n",
    "loss = tf.reduce_mean(tf.nn.sigmoid_cross_entropy_with_logits(labels = y_target, logits = model_output))\n",
    "\n",
    "# Define optimizer function\n",
    "\n",
    "my_opt = tf.train.GradientDescentOptimizer(learning_rate = learning_rate)\n",
    "train_step = my_opt.minimize(loss)\n",
    "\n",
    "# Prediction Function\n",
    "prediction = tf.sigmoid(model_output)"
   ]
  },
  {
   "cell_type": "code",
   "execution_count": 24,
   "metadata": {},
   "outputs": [
    {
     "name": "stdout",
     "output_type": "stream",
     "text": [
      "Train Model Over 4459 Sentences\n",
      "Training Observation #100 Loss = 0.002105159917846322\n",
      "Training Observation #200 Loss = 0.002132267924025655\n",
      "Training Observation #300 Loss = 0.0021618378814309835\n",
      "Training Observation #400 Loss = 0.0021852124482393265\n",
      "Training Observation #500 Loss = 0.002215471351519227\n",
      "Training Observation #600 Loss = 0.002237180946394801\n",
      "Training Observation #700 Loss = 0.0022886241786181927\n",
      "Training Observation #800 Loss = 0.0023202975280582905\n",
      "Training Observation #900 Loss = 0.0023500609677284956\n",
      "Training Observation #1000 Loss = 0.002392121125012636\n",
      "Training Observation #1100 Loss = 0.0024131450336426497\n",
      "Training Observation #1200 Loss = 0.002436785725876689\n",
      "Training Observation #1300 Loss = 0.0024532966781407595\n",
      "Training Observation #1400 Loss = 0.0024897318799048662\n",
      "Training Observation #1500 Loss = 0.0025141218211501837\n",
      "Training Observation #1600 Loss = 5.9693732261657715\n",
      "Training Observation #1700 Loss = 0.0025919373147189617\n",
      "Training Observation #1800 Loss = 0.00261732772924006\n",
      "Training Observation #1900 Loss = 5.931219100952148\n",
      "Training Observation #2000 Loss = 0.0026954535860568285\n",
      "Training Observation #2100 Loss = 0.002729895291849971\n",
      "Training Observation #2200 Loss = 5.887192726135254\n",
      "Training Observation #2300 Loss = 0.0028056944720447063\n",
      "Training Observation #2400 Loss = 5.865826606750488\n",
      "Training Observation #2500 Loss = 0.0028663715347647667\n",
      "Training Observation #2600 Loss = 0.0029029911383986473\n",
      "Training Observation #2700 Loss = 0.0029342123307287693\n",
      "Training Observation #2800 Loss = 0.0029687315691262484\n",
      "Training Observation #2900 Loss = 0.00300665688700974\n",
      "Training Observation #3000 Loss = 5.799742698669434\n",
      "Training Observation #3100 Loss = 0.003068608231842518\n",
      "Training Observation #3200 Loss = 0.0031016080174595118\n",
      "Training Observation #3300 Loss = 0.0031662979163229465\n",
      "Training Observation #3400 Loss = 0.003209799062460661\n",
      "Training Observation #3500 Loss = 0.0032603940926492214\n",
      "Training Observation #3600 Loss = 0.003301881952211261\n",
      "Training Observation #3700 Loss = 0.003343896707519889\n",
      "Training Observation #3800 Loss = 0.003379691392183304\n",
      "Training Observation #3900 Loss = 0.003432959783822298\n",
      "Training Observation #4000 Loss = 0.0034870661329478025\n",
      "Training Observation #4100 Loss = 5.642834663391113\n",
      "Training Observation #4200 Loss = 5.631218910217285\n",
      "Training Observation #4300 Loss = 0.0036144531331956387\n",
      "Training Observation #4400 Loss = 0.0036675985902547836\n",
      "Overall Training Accuracy: 0.8683561336622561\n"
     ]
    }
   ],
   "source": [
    "\"\"\"Establish graph session for stochastic training of the natural language processing (NLP)\"\"\"\n",
    "\n",
    "# logistic regression model algorithm\n",
    "\n",
    "sess = tf.Session()\n",
    "init = tf.global_variables_initializer()\n",
    "sess.run(init)\n",
    "\n",
    "\n",
    "# Define loss and training accuracy lists variables\n",
    "loss_vec_list = []\n",
    "train_acc_all_list = []\n",
    "train_acc_avg_list = []\n",
    "\n",
    "print('Train Model Over {} Sentences'.format(len(texts_train_list)))\n",
    "\n",
    "# loop for graph training session\n",
    "for ix, t in enumerate(vocab_processor.fit_transform(texts_train_list)):\n",
    "    # Establish training target data for session placeholder\n",
    "    y_data = [[target_train_list[ix]]]\n",
    "    # Run stochastic graph training session\n",
    "    sess.run(train_step, feed_dict = {x_data:t, y_target:y_data})\n",
    "    # Run graph session to determine loss function for each generation\n",
    "    temp_loss = sess.run(loss, feed_dict = {x_data:t, y_target:y_data})\n",
    "    # Save generation loss value in list\n",
    "    loss_vec_list.append(temp_loss)\n",
    "    # Make single prediction\n",
    "    [[temp_pred]] = sess.run(prediction, feed_dict = {x_data:t, y_target:y_data})\n",
    "    # Determine single prediction accuracy with boolean True/False outcome\n",
    "    train_acc_temp = target_train_list[ix]==np.round(temp_pred)\n",
    "    train_acc_all_list.append(train_acc_temp)\n",
    "    # Keeep trailing average of past 50 accuracy observations\n",
    "    if (len(train_acc_all_list) >= 50):\n",
    "        train_acc_avg_list.append(np.mean(train_acc_all_list[-50:]))\n",
    "    # Display training outcome results from each 100 set of generation\n",
    "    if ((ix+1)%100 == 0):\n",
    "        print('Training Observation #{} Loss = {}'.format((ix+1), temp_loss))\n",
    "        \n",
    "            \n",
    "# Display training accuracy results\n",
    "print('Overall Training Accuracy: {}'.format(np.mean(train_acc_all_list)))"
   ]
  },
  {
   "cell_type": "code",
   "execution_count": 25,
   "metadata": {},
   "outputs": [
    {
     "data": {
      "image/png": "[encoded data removed]",
      "text/plain": [
       "<matplotlib.figure.Figure at 0x18ae12a9898>"
      ]
     },
     "metadata": {},
     "output_type": "display_data"
    }
   ],
   "source": [
    "\"\"\"Visualize model loss values\"\"\"\n",
    "\n",
    "#Plot Losses\n",
    "plt.plot(loss_vec_list, 'k-')\n",
    "plt.title('Loss Values per Generation', fontsize = 20)\n",
    "plt.xlabel('Generations')\n",
    "plt.ylabel('Losses')\n",
    "plt.show()"
   ]
  },
  {
   "cell_type": "code",
   "execution_count": 26,
   "metadata": {},
   "outputs": [
    {
     "data": {
      "image/png": "[encoded data removed]",
      "text/plain": [
       "<matplotlib.figure.Figure at 0x18aed212898>"
      ]
     },
     "metadata": {},
     "output_type": "display_data"
    }
   ],
   "source": [
    "\"\"\"Visualize training prediction accurary\"\"\"\n",
    "\n",
    "#Plot Losses\n",
    "plt.plot(train_acc_avg_list, 'k-')\n",
    "plt.title('Average Training Prediction Accuracy over Sliding 50 Observation Window', fontsize = 20)\n",
    "plt.xlabel('Observation Windows')\n",
    "plt.ylabel('Accuracy')\n",
    "plt.show()"
   ]
  },
  {
   "cell_type": "code",
   "execution_count": 27,
   "metadata": {},
   "outputs": [
    {
     "name": "stdout",
     "output_type": "stream",
     "text": [
      "Validation Testings Over 1115 Sentences\n",
      "Overall Validation Accuracy: 0.8591928251121076\n"
     ]
    }
   ],
   "source": [
    "\"\"\"Establish graph session for NLP logistic regression model validation testing\"\"\"\n",
    "\n",
    "# Define validation accuracy lists variable\n",
    "test_acc_all_list = []\n",
    "\n",
    "print('Validation Testings Over {} Sentences'.format(len(texts_test_list)))\n",
    "\n",
    "# loop graph session for NLP logistic regression model validation testing\n",
    "for ix, t in enumerate(vocab_processor.fit_transform(texts_test_list)):\n",
    "    # Establish test target data for session placeholder\n",
    "    y_data = [[target_test_list[ix]]]\n",
    "    # Make single prediction\n",
    "    [[temp_pred]] = sess.run(prediction, feed_dict = {x_data:t, y_target:y_data})\n",
    "    # Determine single prediction accuracy with boolean True/False outcome\n",
    "    test_acc_temp = target_test_list[ix]==np.round(temp_pred)\n",
    "    test_acc_all_list.append(test_acc_temp)\n",
    "  \n",
    "            \n",
    "# Display validation accuracy results\n",
    "print('Overall Validation Accuracy: {}'.format(np.mean(test_acc_all_list)))"
   ]
  },
  {
   "cell_type": "code",
   "execution_count": null,
   "metadata": {
    "collapsed": true
   },
   "outputs": [],
   "source": []
  }
 ],
 "metadata": {
  "kernelspec": {
   "display_name": "Python 3",
   "language": "python",
   "name": "python3"
  },
  "language_info": {
   "codemirror_mode": {
    "name": "ipython",
    "version": 3
   },
   "file_extension": ".py",
   "mimetype": "text/x-python",
   "name": "python",
   "nbconvert_exporter": "python",
   "pygments_lexer": "ipython3",
   "version": "3.6.3"
  }
 },
 "nbformat": 4,
 "nbformat_minor": 2
}
