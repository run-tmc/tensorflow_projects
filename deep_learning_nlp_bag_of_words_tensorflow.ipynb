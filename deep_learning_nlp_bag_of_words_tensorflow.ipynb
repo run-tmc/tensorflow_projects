{
 "cells": [
  {
   "cell_type": "markdown",
   "metadata": {},
   "source": [
    "# Deep Learning Natural Language Processing (NLP) Project - Bag of Words Embedding in Tensorflow\n",
    "\n",
    "# Use bag-of-words technique with a SMS database to predict text classification as spam or ham (not spam) by applying stochastic training to a three (3) hidden layer artifical neural network with logistic regression "
   ]
  },
  {
   "cell_type": "code",
   "execution_count": 1,
   "metadata": {},
   "outputs": [
    {
     "name": "stderr",
     "output_type": "stream",
     "text": [
      "C:\\Users\\trevo\\Anaconda3\\lib\\site-packages\\h5py\\__init__.py:34: FutureWarning: Conversion of the second argument of issubdtype from `float` to `np.floating` is deprecated. In future, it will be treated as `np.float64 == np.dtype(float).type`.\n",
      "  from ._conv import register_converters as _register_converters\n"
     ]
    }
   ],
   "source": [
    "\"\"\"import numpy, tensorflow, and matplotlib.pyplot modules\"\"\"\n",
    "\n",
    "import os\n",
    "import numpy as np\n",
    "import csv\n",
    "import string\n",
    "import requests\n",
    "import io\n",
    "from zipfile import ZipFile\n",
    "from tensorflow.contrib import learn\n",
    "import tensorflow as tf\n",
    "import matplotlib.pyplot as plt\n",
    "# from tensorflow.python.framework import ops"
   ]
  },
  {
   "cell_type": "code",
   "execution_count": 2,
   "metadata": {},
   "outputs": [
    {
     "name": "stdout",
     "output_type": "stream",
     "text": [
      "SMS text dataset already loaded\n"
     ]
    }
   ],
   "source": [
    "\"\"\" Download or read in text data \"\"\"\n",
    "\n",
    "# Establish and initialize text data, texts, and target lists\n",
    "text_data = []\n",
    "texts = []\n",
    "target = []\n",
    "\n",
    "# Define file root location where the jupyter program file is located\n",
    "data_root = '.'\n",
    "save_file_name = os.path.join(data_root,'temp_spam_data.csv')\n",
    "if (os.path.isfile(save_file_name)):\n",
    "    print('SMS text dataset already loaded')\n",
    "    text_data = []\n",
    "    with open(save_file_name, 'r') as temp_output_file:\n",
    "        reader = csv.reader(temp_output_file)\n",
    "        text_data = list(reader)\n",
    "        # Remove empty lists\n",
    "        text_data = [x for x in text_data if x != []]\n",
    "else:\n",
    "    print('Loading SMS text dataset')\n",
    "    zip_url = 'http://archive.ics.uci.edu/ml/machine-learning-databases/00228/smsspamcollection.zip'\n",
    "    r = requests.get(zip_url)\n",
    "    z = ZipFile(io.BytesIO(r.content))\n",
    "    file = z.read('SMSSpamCollection')\n",
    "    # Format Data\n",
    "    text_data = file.decode()\n",
    "    text_data = text_data.encode('ascii', errors='ignore')\n",
    "    text_data = text_data.decode().split('\\n')\n",
    "    text_data = [x.split('\\t') for x in text_data if len(x)>=1]\n",
    "    \n",
    "    # Write text data to csv\n",
    "    with open(save_file_name, 'w') as temp_output_file:\n",
    "        writer = csv.writer(temp_output_file)\n",
    "        writer.writerows(text_data)\n",
    "\n",
    "texts = [x[1] for x in text_data]\n",
    "target = [x[0] for x in text_data]\n",
    "# Relabel 'spam' as 1, 'ham' as 0\n",
    "target = [1 if x=='spam' else 0 for x in target]"
   ]
  },
  {
   "cell_type": "code",
   "execution_count": 3,
   "metadata": {
    "collapsed": true
   },
   "outputs": [],
   "source": [
    "\"\"\"pre-process the text data for building the bag-of-words vocabulary\"\"\"\n",
    "\n",
    "# Convert all letters to lower case\n",
    "texts = [x.lower() for x in texts]\n",
    "\n",
    "# Remove all punctuations\n",
    "texts = [''.join(c for c in x if c not in string.punctuation) for x in texts]\n",
    "\n",
    "# Remove all number characters\n",
    "texts = [''.join(c for c in x if c not in '0123456789') for x in texts]\n",
    "\n",
    "# Remove and time extra whitespace\n",
    "texts = [' '.join(x.split()) for x in texts]"
   ]
  },
  {
   "cell_type": "code",
   "execution_count": 4,
   "metadata": {
    "collapsed": true
   },
   "outputs": [],
   "source": [
    "\"\"\"Establish bag-of-words vocabulary from pre-processed text data\"\"\"\n",
    "\n",
    "# Declare sentence size\n",
    "sentence_size = 25\n",
    "\n",
    "# Declare minimun word frequency\n",
    "min_word_freq = 3\n",
    "\n",
    "vocab_processor = learn.preprocessing.VocabularyProcessor(sentence_size, min_frequency=min_word_freq)\n",
    "vocab_processor.fit_transform(texts)\n",
    "\n",
    "# Determine size of bag-of-word vocabulary\n",
    "embedding_size = len(vocab_processor.vocabulary_)"
   ]
  },
  {
   "cell_type": "code",
   "execution_count": 5,
   "metadata": {
    "collapsed": true
   },
   "outputs": [],
   "source": [
    "\"\"\"Establish 80%/20% training and validation datasets,respectively\"\"\"\n",
    "\n",
    "# Generate random indices from 80% of texts messages to establish the training dataset\n",
    "train_indices = np.random.choice(len(texts), round((0.8*len(texts))), replace=False)\n",
    "\n",
    "# Generate test data from the remaining text message indices\n",
    "test_indices = np.array(list(set(range(len(texts))) - set(train_indices)))\n",
    "\n",
    "# Generate text message training dataset list\n",
    "texts_train_list = [x for ix, x in enumerate(texts) if ix in train_indices]\n",
    "\n",
    "# Generate text message validation dataset list\n",
    "texts_test_list = [x for ix, x in enumerate(texts) if ix in test_indices]\n",
    "\n",
    "# Generate text message target classifications for training dataset list\n",
    "target_train_list = [x for ix, x in enumerate(target) if ix in train_indices]\n",
    "\n",
    "# Generate text message target classifications for validation dataset list\n",
    "target_test_list = [x for ix, x in enumerate(target) if ix in test_indices]"
   ]
  },
  {
   "cell_type": "code",
   "execution_count": 6,
   "metadata": {
    "collapsed": true
   },
   "outputs": [],
   "source": [
    "\"\"\"Define functions for initializing hidden layer weights and bias variables\"\"\"\n",
    "\n",
    "def init_weight(shape, st_dev):\n",
    "    weight = tf.Variable(tf.random_normal(shape, stddev=st_dev))\n",
    "    return (weight)\n",
    "\n",
    "def init_bias(shape, st_dev):\n",
    "    bias = tf.Variable(tf.random_normal(shape, stddev=st_dev))\n",
    "    return (bias)"
   ]
  },
  {
   "cell_type": "code",
   "execution_count": 7,
   "metadata": {
    "collapsed": true
   },
   "outputs": [],
   "source": [
    "\"\"\"Define function for fully connecting hidden layers with rectified linear unit (ReLU) activation function\n",
    "    TensorFlow ML Cookbook p 172\"\"\"\n",
    "\n",
    "def fully_connect(input_layer, weights, biases, activation):\n",
    "    layer = tf.add(tf.matmul(input_layer, weights),biases)\n",
    "    if (activation == True):\n",
    "        # Apply ReLU activation functions only for hidden layer output\n",
    "        return (tf.nn.relu(layer))\n",
    "    else:\n",
    "        # Sigmoid activation function applied with loss function for output layer\n",
    "        return (layer)"
   ]
  },
  {
   "cell_type": "code",
   "execution_count": 8,
   "metadata": {
    "collapsed": true
   },
   "outputs": [],
   "source": [
    "\"\"\"Establish graph session variables and placeholders; and text message sentence vector \"\"\"\n",
    "\n",
    "# Declare feature data placeholder\n",
    "x_data = tf.placeholder(shape = [sentence_size], dtype=tf.int32)\n",
    "\n",
    "# Declare classification target placeholder\n",
    "y_target = tf.placeholder(shape = [1,1], dtype=tf.float32)\n",
    "\n",
    "# Establish embedding matrix for bag-of-words \n",
    "\n",
    "# Define identity matrix based on the number of commom words in the text messages  \n",
    "identity_mat = tf.diag(tf.ones(shape=[embedding_size]))\n",
    "\n",
    "# Encode text message sentence words\n",
    "x_embed = tf.nn.embedding_lookup(identity_mat, x_data)\n",
    "\n",
    "# Generate text message sentence vector\n",
    "x_col_sums = tf.reduce_sum(x_embed,0)\n",
    "\n",
    "# Establish 2D sentence vector for model input\n",
    "x_col_sums_2D = tf.expand_dims(x_col_sums,0)"
   ]
  },
  {
   "cell_type": "code",
   "execution_count": 10,
   "metadata": {},
   "outputs": [],
   "source": [
    "\"\"\"Define the training model algorithm for three layer artifical neural network\"\"\"\n",
    "\n",
    "# Define number of layer hidden nodes\n",
    "layer_1_nodes = 75\n",
    "layer_2_nodes = 15\n",
    "layer_3_nodes = 5\n",
    "\n",
    "\n",
    "# Create first layer with 75 hidden nodes\n",
    "weight_1 = init_weight(shape= [embedding_size,layer_1_nodes], st_dev = 10.0)\n",
    "bias_1 = init_bias(shape= [layer_1_nodes], st_dev = 10.0)\n",
    "layer_1 = fully_connect(x_col_sums_2D, weight_1, bias_1, activation = True)\n",
    "\n",
    "# Create second layer with 15 hidden nodes\n",
    "weight_2 = init_weight(shape= [layer_1_nodes, layer_2_nodes], st_dev = 10.0)\n",
    "bias_2 = init_bias(shape= [layer_2_nodes], st_dev = 10.0)\n",
    "layer_2 = fully_connect(layer_1, weight_2, bias_2, activation = True)\n",
    "\n",
    "# Create third layer with 5 hidden nodes\n",
    "weight_3 = init_weight(shape= [layer_2_nodes, layer_3_nodes], st_dev = 10.0)\n",
    "bias_3 = init_bias(shape= [layer_3_nodes], st_dev = 10.0)\n",
    "layer_3 = fully_connect(layer_2, weight_3, bias_3, activation = True)\n",
    "\n",
    "# Create output layer\n",
    "weight_4 = init_weight(shape= [layer_3_nodes, 1], st_dev = 10.0)\n",
    "bias_4 = init_bias(shape= [1,1], st_dev = 10.0)\n",
    "model_output = fully_connect(layer_3, weight_4, bias_4, activation = False)\n",
    "\n",
    "# Establish learning rate\n",
    "learning_rate = 0.001\n",
    "\n",
    "# Define loss function\n",
    "loss = tf.reduce_mean(tf.nn.sigmoid_cross_entropy_with_logits(labels = y_target, logits = model_output))\n",
    "\n",
    "# Define optimizer function\n",
    "\n",
    "my_opt = tf.train.GradientDescentOptimizer(learning_rate = learning_rate)\n",
    "train_step = my_opt.minimize(loss)\n",
    "\n",
    "# Prediction Function\n",
    "prediction = tf.sigmoid(model_output)"
   ]
  },
  {
   "cell_type": "code",
   "execution_count": 11,
   "metadata": {},
   "outputs": [
    {
     "name": "stdout",
     "output_type": "stream",
     "text": [
      "Train Model Over 4459 Sentences\n",
      "Training Observation #100 Loss = 0.0005930789629928768\n",
      "Training Observation #200 Loss = 0.0006014087703078985\n",
      "Training Observation #300 Loss = 0.0006110758404247463\n",
      "Training Observation #400 Loss = 0.0006190391723066568\n",
      "Training Observation #500 Loss = 0.0006283614202402532\n",
      "Training Observation #600 Loss = 0.000636549957562238\n",
      "Training Observation #700 Loss = 0.0006500224117189646\n",
      "Training Observation #800 Loss = 0.0006578352185897529\n",
      "Training Observation #900 Loss = 0.000666407635435462\n",
      "Training Observation #1000 Loss = 0.0006757669034413993\n",
      "Training Observation #1100 Loss = 0.0006818411638960242\n",
      "Training Observation #1200 Loss = 0.0006921085878275335\n",
      "Training Observation #1300 Loss = 0.0007018286851234734\n",
      "Training Observation #1400 Loss = 0.0007081371732056141\n",
      "Training Observation #1500 Loss = 0.0007159311207942665\n",
      "Training Observation #1600 Loss = 0.0007281371508724988\n",
      "Training Observation #1700 Loss = 0.0007390715181827545\n",
      "Training Observation #1800 Loss = 0.0007471751887351274\n",
      "Training Observation #1900 Loss = 0.0007614350179210305\n",
      "Training Observation #2000 Loss = 0.0007682457799091935\n",
      "Training Observation #2100 Loss = 0.000775892985984683\n",
      "Training Observation #2200 Loss = 0.0007859705947339535\n",
      "Training Observation #2300 Loss = 0.0007977684726938605\n",
      "Training Observation #2400 Loss = 7.1201982498168945\n",
      "Training Observation #2500 Loss = 0.0008145353640429676\n",
      "Training Observation #2600 Loss = 7.102405071258545\n",
      "Training Observation #2700 Loss = 0.0008316545281559229\n",
      "Training Observation #2800 Loss = 0.0008449807064607739\n",
      "Training Observation #2900 Loss = 0.0008576628169976175\n",
      "Training Observation #3000 Loss = 0.0008670617826282978\n",
      "Training Observation #3100 Loss = 7.0329461097717285\n",
      "Training Observation #3200 Loss = 0.0008941769483499229\n",
      "Training Observation #3300 Loss = 0.0009121439070440829\n",
      "Training Observation #3400 Loss = 6.983280658721924\n",
      "Training Observation #3500 Loss = 0.0009397286339662969\n",
      "Training Observation #3600 Loss = 0.000950026442296803\n",
      "Training Observation #3700 Loss = 0.0009623587829992175\n",
      "Training Observation #3800 Loss = 0.0009729044977575541\n",
      "Training Observation #3900 Loss = 0.0009855336975306273\n",
      "Training Observation #4000 Loss = 0.0010013243881985545\n",
      "Training Observation #4100 Loss = 0.0010194036876782775\n",
      "Training Observation #4200 Loss = 0.0010305740870535374\n",
      "Training Observation #4300 Loss = 0.0010439514880999923\n",
      "Training Observation #4400 Loss = 0.0010543366661295295\n",
      "Overall Training Accuracy: 0.8647678851760484\n"
     ]
    }
   ],
   "source": [
    "\"\"\"Establish graph session for stochastic training of the natural language processing (NLP)\"\"\"\n",
    "\n",
    "# logistic regression model algorithm\n",
    "\n",
    "sess = tf.Session()\n",
    "init = tf.global_variables_initializer()\n",
    "sess.run(init)\n",
    "\n",
    "\n",
    "# Define loss and training accuracy lists variables\n",
    "loss_vec_list = []\n",
    "train_acc_all_list = []\n",
    "train_acc_avg_list = []\n",
    "\n",
    "print('Train Model Over {} Sentences'.format(len(texts_train_list)))\n",
    "\n",
    "# loop for graph training session\n",
    "for ix, t in enumerate(vocab_processor.fit_transform(texts_train_list)):\n",
    "    # Establish training target data for session placeholder\n",
    "    y_data = [[target_train_list[ix]]]\n",
    "    # Run stochastic graph training session\n",
    "    sess.run(train_step, feed_dict = {x_data:t, y_target:y_data})\n",
    "    # Run graph session to determine loss function for each generation\n",
    "    temp_loss = sess.run(loss, feed_dict = {x_data:t, y_target:y_data})\n",
    "    # Save generation loss value in list\n",
    "    loss_vec_list.append(temp_loss)\n",
    "    # Make single prediction\n",
    "    [[temp_pred]] = sess.run(prediction, feed_dict = {x_data:t, y_target:y_data})\n",
    "    # Determine single prediction accuracy with boolean True/False outcome\n",
    "    train_acc_temp = target_train_list[ix]==np.round(temp_pred)\n",
    "    train_acc_all_list.append(train_acc_temp)\n",
    "    # Keeep trailing average of past 50 accuracy observations\n",
    "    if (len(train_acc_all_list) >= 50):\n",
    "        train_acc_avg_list.append(np.mean(train_acc_all_list[-50:]))\n",
    "    # Display training outcome results from each 100 set of generation\n",
    "    if ((ix+1)%100 == 0):\n",
    "        print('Training Observation #{} Loss = {}'.format((ix+1), temp_loss))\n",
    "        \n",
    "            \n",
    "# Display training accuracy results\n",
    "print('Overall Training Accuracy: {}'.format(np.mean(train_acc_all_list)))"
   ]
  },
  {
   "cell_type": "code",
   "execution_count": 12,
   "metadata": {},
   "outputs": [
    {
     "data": {
      "image/png": "[encoded data removed]",
      "text/plain": [
       "<matplotlib.figure.Figure at 0x16681f3a3c8>"
      ]
     },
     "metadata": {},
     "output_type": "display_data"
    }
   ],
   "source": [
    "\"\"\"Visualize model loss values\"\"\"\n",
    "\n",
    "#Plot Losses\n",
    "plt.plot(loss_vec_list, 'k-')\n",
    "plt.title('Loss Values per Generation', fontsize = 20)\n",
    "plt.xlabel('Generations')\n",
    "plt.ylabel('Losses')\n",
    "plt.show()"
   ]
  },
  {
   "cell_type": "code",
   "execution_count": 13,
   "metadata": {},
   "outputs": [
    {
     "data": {
      "image/png": "[encoded data removed]",
      "text/plain": [
       "<matplotlib.figure.Figure at 0x16681f25be0>"
      ]
     },
     "metadata": {},
     "output_type": "display_data"
    }
   ],
   "source": [
    "\"\"\"Visualize training prediction accurary\"\"\"\n",
    "\n",
    "#Plot Losses\n",
    "plt.plot(train_acc_avg_list, 'k-')\n",
    "plt.title('Average Training Prediction Accuracy over Sliding 50 Observation Window', fontsize = 20)\n",
    "plt.xlabel('Observation Windows')\n",
    "plt.ylabel('Accuracy')\n",
    "plt.show()"
   ]
  },
  {
   "cell_type": "code",
   "execution_count": 14,
   "metadata": {},
   "outputs": [
    {
     "name": "stdout",
     "output_type": "stream",
     "text": [
      "Validation Testings Over 1115 Sentences\n",
      "Overall Validation Accuracy: 0.8717488789237668\n"
     ]
    }
   ],
   "source": [
    "\"\"\"Establish graph session for NLP logistic regression model validation testing\"\"\"\n",
    "\n",
    "# Define validation accuracy lists variable\n",
    "test_acc_all_list = []\n",
    "\n",
    "print('Validation Testings Over {} Sentences'.format(len(texts_test_list)))\n",
    "\n",
    "# loop graph session for NLP logistic regression model validation testing\n",
    "for ix, t in enumerate(vocab_processor.fit_transform(texts_test_list)):\n",
    "    # Establish test target data for session placeholder\n",
    "    y_data = [[target_test_list[ix]]]\n",
    "    # Make single prediction\n",
    "    [[temp_pred]] = sess.run(prediction, feed_dict = {x_data:t, y_target:y_data})\n",
    "    # Determine single prediction accuracy with boolean True/False outcome\n",
    "    test_acc_temp = target_test_list[ix]==np.round(temp_pred)\n",
    "    test_acc_all_list.append(test_acc_temp)\n",
    "  \n",
    "            \n",
    "# Display validation accuracy results\n",
    "print('Overall Validation Accuracy: {}'.format(np.mean(test_acc_all_list)))"
   ]
  },
  {
   "cell_type": "code",
   "execution_count": null,
   "metadata": {
    "collapsed": true
   },
   "outputs": [],
   "source": []
  }
 ],
 "metadata": {
  "kernelspec": {
   "display_name": "Python 3",
   "language": "python",
   "name": "python3"
  },
  "language_info": {
   "codemirror_mode": {
    "name": "ipython",
    "version": 3
   },
   "file_extension": ".py",
   "mimetype": "text/x-python",
   "name": "python",
   "nbconvert_exporter": "python",
   "pygments_lexer": "ipython3",
   "version": "3.6.3"
  }
 },
 "nbformat": 4,
 "nbformat_minor": 2
}
