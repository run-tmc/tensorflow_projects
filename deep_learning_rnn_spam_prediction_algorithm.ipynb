{
 "cells": [
  {
   "cell_type": "markdown",
   "metadata": {},
   "source": [
    "# Deep Learning Natural Language Processing (NLP) Project - Recurrent Neural Network (RNN) without Long-Short Term Memory in Tensorflow\n",
    "\n",
    "# Developed a RNN algorithm using a word embedding (vector) layer and mini-batch stochastic descent gradient training to predict text classification [spam or ham (not spam)] for up to a twenty-five (25) word sequence from a SMS dataset."
   ]
  },
  {
   "cell_type": "code",
   "execution_count": 1,
   "metadata": {},
   "outputs": [
    {
     "name": "stderr",
     "output_type": "stream",
     "text": [
      "C:\\Users\\trevo\\Anaconda3\\lib\\site-packages\\h5py\\__init__.py:34: FutureWarning: Conversion of the second argument of issubdtype from `float` to `np.floating` is deprecated. In future, it will be treated as `np.float64 == np.dtype(float).type`.\n",
      "  from ._conv import register_converters as _register_converters\n"
     ]
    }
   ],
   "source": [
    "import os\n",
    "# import regular expression module for text pattern matching methods (sub)\n",
    "import re\n",
    "import io\n",
    "import requests\n",
    "import numpy as np\n",
    "import matplotlib.pyplot as plt\n",
    "import tensorflow as tf\n",
    "from zipfile import ZipFile"
   ]
  },
  {
   "cell_type": "code",
   "execution_count": 2,
   "metadata": {
    "collapsed": true
   },
   "outputs": [],
   "source": [
    "epochs = 20\n",
    "batch_size = 250\n",
    "max_sequence_length =25\n",
    "\n",
    "# number of hidden layer nodes\n",
    "rnn_size = 10\n",
    "embedding_size = 50\n",
    "min_word_frequency = 10\n",
    "learning_rate = 0.0005"
   ]
  },
  {
   "cell_type": "code",
   "execution_count": 3,
   "metadata": {},
   "outputs": [
    {
     "name": "stdout",
     "output_type": "stream",
     "text": [
      "SMS Spam Collection previously downloaded...\n",
      "\n",
      "Display Samples of Dataset Formats\n",
      "\n",
      "Text data list sample format..last three [\"ham\\tThe guy did some bitching but I acted like i'd be interested in buying something else next week and he gave it to us for free\\n\", 'ham\\tRofl. Its true to its name\\n', '\\n']\n",
      "\n",
      "Text data list first process sample format...last three ['ham\\tPity, * was in mood for that. So...any other suggestions?\\n', \"ham\\tThe guy did some bitching but I acted like i'd be interested in buying something else next week and he gave it to us for free\\n\", 'ham\\tRofl. Its true to its name\\n']\n",
      "\n",
      "Text data list second process sample format...first four [['ham', 'Go until jurong point, crazy.. Available only in bugis n great world la e buffet... Cine there got amore wat...\\n'], ['ham', 'Ok lar... Joking wif u oni...\\n'], ['spam', \"Free entry in 2 a wkly comp to win FA Cup final tkts 21st May 2005. Text FA to 87121 to receive entry question(std txt rate)T&C's apply 08452810075over18's\\n\"], ['ham', 'U dun say so early hor... U c already then say...\\n'], ['ham', \"Nah I don't think he goes to usf, he lives around here though\\n\"]]\n",
      "Text data target list sample format...first four ['ham', 'ham', 'spam', 'ham', 'ham']\n",
      "\n",
      "Text data train list sample format...first four ['Go until jurong point, crazy.. Available only in bugis n great world la e buffet... Cine there got amore wat...\\n', 'Ok lar... Joking wif u oni...\\n', \"Free entry in 2 a wkly comp to win FA Cup final tkts 21st May 2005. Text FA to 87121 to receive entry question(std txt rate)T&C's apply 08452810075over18's\\n\", 'U dun say so early hor... U c already then say...\\n', \"Nah I don't think he goes to usf, he lives around here though\\n\"]\n"
     ]
    }
   ],
   "source": [
    "data_dir = 'temp_text_data'\n",
    "data_file = 'text_data.txt'\n",
    "text_data_list = []\n",
    "text_data_target_list = []\n",
    "text_data_train_list = []\n",
    "\n",
    "if not os.path.exists(data_dir):\n",
    "    os.makedirs(data_dir)\n",
    "if not os.path.isfile(os.path.join(data_dir, data_file)):\n",
    "    zip_url = 'http://archive.ics.uci.edu/ml/machine-learning-databases/00228/smsspamcollection.zip'\n",
    "    r = requests.get(zip_url)\n",
    "    z = ZipFile(io.BytesIO(r.content))\n",
    "    file = z.read('SMSSpamCollection')\n",
    "    text_data = file.decode()\n",
    "    text_data = text_data.encode('ascii', errors='ignore')\n",
    "    text_data_list = text_data.decode().split('\\n')\n",
    "    with open(os.path.join(data_dir, data_file), 'w') as file_conn:\n",
    "        for text in text_data_list:\n",
    "            file_conn.write(\"{}\\n\".format(text))\n",
    "else:\n",
    "    print('SMS Spam Collection previously downloaded...')\n",
    "    print()\n",
    "    with open(os.path.join(data_dir, data_file), 'r') as file_conn:\n",
    "        for row in file_conn:\n",
    "            text_data_list.append(row)\n",
    "            \n",
    "\n",
    "print('Display Samples of Dataset Formats')\n",
    "print()            \n",
    "print('Text data list sample format..last three', text_data_list[(len(text_data_list)-3):len(text_data_list)])\n",
    "print()\n",
    "text_data_list = text_data_list[:-1]\n",
    "\n",
    "print('Text data list first process sample format...last three',\\\n",
    "      text_data_list[(len(text_data_list)-3):len(text_data_list)])\n",
    "\n",
    "print()\n",
    "\n",
    "text_data_list = [x.split('\\t') for x in text_data_list if len(x)>=1]\n",
    "\n",
    "print('Text data list second process sample format...first four', text_data_list[0:5])\n",
    "\n",
    "[text_data_target_list, text_data_train_list]=[list(x) for x in zip(*text_data_list)]\n",
    "print('Text data target list sample format...first four', text_data_target_list[0:5])\n",
    "print()\n",
    "print('Text data train list sample format...first four', text_data_train_list[0:5])        \n",
    "        \n",
    "        "
   ]
  },
  {
   "cell_type": "code",
   "execution_count": 4,
   "metadata": {
    "collapsed": true
   },
   "outputs": [],
   "source": [
    "def clean_text(text_string):\n",
    "    text_string_list = []\n",
    "    text_string = re.sub(r'([^\\s\\w] |_| [0-9])+', '', text_string)\n",
    "    # Need single space with \" \"\n",
    "    text_string_list = \" \".join(text_string.split())\n",
    "    # text_string = \" \".join(text_string.split())\n",
    "    text_string_list = text_string_list.lower()\n",
    "    return (text_string_list)"
   ]
  },
  {
   "cell_type": "code",
   "execution_count": 5,
   "metadata": {
    "scrolled": true
   },
   "outputs": [
    {
     "name": "stdout",
     "output_type": "stream",
     "text": [
      "Cleaned Text data train list sample format...first four ['go until jurong pointcrazy.available only in bugis n great world la e buffet..cine there got amore wat...', 'ok lar..joking wif u oni...', \"free entry in a wkly comp to win fa cup final tkts1st may005text fa to7121 to receive entry question(std txt rate)t&c's apply8452810075over18's\", 'u dun say so early hor..u c already then say...', \"nah i don't think he goes to usfhe lives around here though\"]\n",
      "\n",
      "Processed Vocab Text [[ 42 418   0   0 629  71   8   0  77 127 370   0 138   0   0  70  54   0\n",
      "  133   0   0   0   0   0   0]\n",
      " [ 50 345   0 380   6   0   0   0   0   0   0   0   0   0   0   0   0   0\n",
      "    0   0   0   0   0   0   0]\n",
      " [ 49 439   8   4 704 803   1 220   0   0 545   0   0   0   0   1 340 439\n",
      "  527 844 120 584 264 570   0]\n",
      " [  6 213 130  23 332   0   6 142 150  59 130   0   0   0   0   0   0   0\n",
      "    0   0   0   0   0   0   0]\n",
      " [  0   3  90  88  69 395   1   0   0 211 116 589   0   0   0   0   0   0\n",
      "    0   0   0   0   0   0   0]]\n"
     ]
    }
   ],
   "source": [
    "text_data_train_list = [clean_text(x) for x in text_data_train_list]\n",
    "print('Cleaned Text data train list sample format...first four', text_data_train_list[0:5]) \n",
    "print()\n",
    "# text_processed_list=[]\n",
    "vocab_processor = tf.contrib.learn.preprocessing.\\\n",
    "VocabularyProcessor(max_sequence_length, min_frequency=min_word_frequency)\n",
    "\n",
    "text_processed_list = np.array(list(vocab_processor.fit_transform(text_data_train_list)))\n",
    "print('Processed Vocab Text', text_processed_list[0:5])"
   ]
  },
  {
   "cell_type": "code",
   "execution_count": 6,
   "metadata": {},
   "outputs": [
    {
     "name": "stdout",
     "output_type": "stream",
     "text": [
      "Sampled Encoded target numerical labels [1 1 0 1 1 0 1 1 0 0 1 0 0 1 1 0 1 1 1 0]\n",
      "Sampled Shuffled Test Data [[ 50   0   3 240  40 181  27   0  32 176  47 325 215   0 209  42 337  21\n",
      "    0   4   0   9 380 152  32]\n",
      " [  0  21  65   0  41   0   0  11 299   0  10  45  44  21 221 224   0   0\n",
      "    0   0   0   0   0   0   0]\n",
      " [  4   0 130  87 366 169   0  71  84  30 461   9   0   3 563   0   3  90\n",
      "    0   0   0   0   0   0   0]\n",
      " [ 63   1   0  38  21 718  25   4 467  80 256 112   0  35   0   0 196   0\n",
      "    0  77   0 412 685   0 599]\n",
      " [123  50 194  10  70  12   0 396 261   0   0   0   0   0   0   0   0   0\n",
      "    0   0   0   0   0   0   0]]\n",
      "Sampled Shuffled Encoded target numerical labels [1 1 1 0 1 1 1 1 1 0 1 1 1 1 1 1 0 1 1 0]\n"
     ]
    }
   ],
   "source": [
    "x_shuffled_list = []\n",
    "y_shuffled_list = []\n",
    "text_processed_nparray = np.array(text_processed_list)\n",
    "# encode target numerical labels one(1) for 'ham'; zero(0) for 'spam'\n",
    "text_data_encoded_target_list = np.array([1 if x=='ham' else 0 for x in text_data_target_list])\n",
    "print('Sampled Encoded target numerical labels', text_data_encoded_target_list[0:20])\n",
    "shuffled_ix_nparray =np.random.permutation(np.arange(len(text_data_target_list)))\n",
    "x_shuffled_list = text_processed_nparray[shuffled_ix_nparray]\n",
    "print('Sampled Shuffled Test Data',x_shuffled_list[0:5])\n",
    "y_shuffled_list = text_data_encoded_target_list[shuffled_ix_nparray]\n",
    "print('Sampled Shuffled Encoded target numerical labels',y_shuffled_list[0:20])\n"
   ]
  },
  {
   "cell_type": "code",
   "execution_count": 7,
   "metadata": {},
   "outputs": [
    {
     "name": "stdout",
     "output_type": "stream",
     "text": [
      "Vocabulary Size: 863\n",
      "80 - 20 Train Test Split: 4459 - 1115\n"
     ]
    }
   ],
   "source": [
    "ix_cutoff = int(len(y_shuffled_list)*0.80)\n",
    "x_train_list = []\n",
    "x_test_list = []\n",
    "y_train_list = []\n",
    "y_test_list = []\n",
    "x_train_list, x_test_list = x_shuffled_list[:ix_cutoff], x_shuffled_list[ix_cutoff:]\n",
    "y_train_list, y_test_list = y_shuffled_list[:ix_cutoff], y_shuffled_list[ix_cutoff:]\n",
    "\n",
    "vocab_size = len(vocab_processor.vocabulary_)\n",
    "print('Vocabulary Size: {}'.format(vocab_size))\n",
    "print('80 - 20 Train Test Split: {} - {}'.format(len(y_train_list),len(y_test_list)))"
   ]
  },
  {
   "cell_type": "code",
   "execution_count": 8,
   "metadata": {
    "collapsed": true
   },
   "outputs": [],
   "source": [
    "tf.reset_default_graph()\n",
    "dropout_keep_prob = tf.placeholder(tf.float32)\n",
    "x_data = tf.placeholder(tf.int32, [None, max_sequence_length])\n",
    "y_output = tf.placeholder(tf.int32, [None])\n",
    "\n",
    "embedding_mat = tf.Variable(tf.random_uniform([vocab_size, embedding_size], -1.0, 1.0))\n",
    "embedding_output = tf.nn.embedding_lookup(embedding_mat, x_data)"
   ]
  },
  {
   "cell_type": "code",
   "execution_count": 9,
   "metadata": {
    "collapsed": true
   },
   "outputs": [],
   "source": [
    "# tf.reset_default_graph()\n",
    "cell = tf.nn.rnn_cell.BasicRNNCell(num_units = rnn_size)\n",
    "output, state = tf.nn.dynamic_rnn(cell, embedding_output, dtype=tf.float32)\n",
    "output = tf.nn.dropout(output, dropout_keep_prob)"
   ]
  },
  {
   "cell_type": "code",
   "execution_count": 10,
   "metadata": {
    "collapsed": true
   },
   "outputs": [],
   "source": [
    "output = tf.transpose(output, [1, 0, 2])\n",
    "last = tf.gather(output, int(output.get_shape()[0]) - 1)"
   ]
  },
  {
   "cell_type": "code",
   "execution_count": 11,
   "metadata": {
    "collapsed": true
   },
   "outputs": [],
   "source": [
    "weight = tf.Variable(tf.truncated_normal([rnn_size,2], stddev=0.1))\n",
    "bias = tf.Variable(tf.constant(0.1, shape=[2]))\n",
    "logits_out = tf.nn.softmax(tf.matmul(last, weight) + bias)\n",
    "losses = tf.nn.sparse_softmax_cross_entropy_with_logits(labels=y_output, logits=logits_out)\n",
    "loss = tf.reduce_mean(losses)"
   ]
  },
  {
   "cell_type": "code",
   "execution_count": 12,
   "metadata": {},
   "outputs": [
    {
     "name": "stderr",
     "output_type": "stream",
     "text": [
      "C:\\Users\\trevo\\Anaconda3\\lib\\site-packages\\tensorflow\\python\\ops\\gradients_impl.py:96: UserWarning: Converting sparse IndexedSlices to a dense Tensor of unknown shape. This may consume a large amount of memory.\n",
      "  \"Converting sparse IndexedSlices to a dense Tensor of unknown shape. \"\n"
     ]
    }
   ],
   "source": [
    "accuracy = tf.reduce_mean(tf.cast(tf.equal(tf.argmax(logits_out,1),\\\n",
    "                                           tf.cast(y_output,tf.int64)),\\\n",
    "                                 tf.float32))\n",
    "# () syntax required to avoid \"missing fetches\" error\n",
    "sess=tf.Session()\n",
    "optimizer = tf.train.RMSPropOptimizer(learning_rate)\n",
    "train_step = optimizer.minimize(loss)\n",
    "init = tf.global_variables_initializer()\n",
    "sess.run(init)"
   ]
  },
  {
   "cell_type": "code",
   "execution_count": 13,
   "metadata": {},
   "outputs": [
    {
     "name": "stdout",
     "output_type": "stream",
     "text": [
      "Epoch: 1, Train Loss 0.683852, Train Accuracy 0.559809; Test Loss: 0.686509, Test Accuracy 0.838565\n",
      "Epoch: 2, Train Loss 0.675359, Train Accuracy 0.665072; Test Loss: 0.676406, Test Accuracy 0.847534\n",
      "Epoch: 3, Train Loss 0.662633, Train Accuracy 0.674641; Test Loss: 0.659259, Test Accuracy 0.852018\n",
      "Epoch: 4, Train Loss 0.642647, Train Accuracy 0.746412; Test Loss: 0.636441, Test Accuracy 0.855605\n",
      "Epoch: 5, Train Loss 0.632002, Train Accuracy 0.746412; Test Loss: 0.611365, Test Accuracy 0.858296\n",
      "Epoch: 6, Train Loss 0.594601, Train Accuracy 0.851675; Test Loss: 0.585727, Test Accuracy 0.859193\n",
      "Epoch: 7, Train Loss 0.582036, Train Accuracy 0.827751; Test Loss: 0.562773, Test Accuracy 0.862780\n",
      "Epoch: 8, Train Loss 0.552792, Train Accuracy 0.866029; Test Loss: 0.541147, Test Accuracy 0.866368\n",
      "Epoch: 9, Train Loss 0.578763, Train Accuracy 0.789474; Test Loss: 0.522175, Test Accuracy 0.872646\n",
      "Epoch: 10, Train Loss 0.540129, Train Accuracy 0.846890; Test Loss: 0.506422, Test Accuracy 0.873543\n",
      "Epoch: 11, Train Loss 0.502578, Train Accuracy 0.870813; Test Loss: 0.493270, Test Accuracy 0.878027\n",
      "Epoch: 12, Train Loss 0.519720, Train Accuracy 0.846890; Test Loss: 0.482502, Test Accuracy 0.878027\n",
      "Epoch: 13, Train Loss 0.502973, Train Accuracy 0.851675; Test Loss: 0.473502, Test Accuracy 0.880718\n",
      "Epoch: 14, Train Loss 0.454245, Train Accuracy 0.899522; Test Loss: 0.465826, Test Accuracy 0.882511\n",
      "Epoch: 15, Train Loss 0.472336, Train Accuracy 0.875598; Test Loss: 0.459354, Test Accuracy 0.883408\n",
      "Epoch: 16, Train Loss 0.454804, Train Accuracy 0.889952; Test Loss: 0.453853, Test Accuracy 0.883408\n",
      "Epoch: 17, Train Loss 0.504052, Train Accuracy 0.832536; Test Loss: 0.449255, Test Accuracy 0.885202\n",
      "Epoch: 18, Train Loss 0.469769, Train Accuracy 0.866029; Test Loss: 0.445423, Test Accuracy 0.885202\n",
      "Epoch: 19, Train Loss 0.460633, Train Accuracy 0.875598; Test Loss: 0.442256, Test Accuracy 0.885202\n",
      "Epoch: 20, Train Loss 0.438684, Train Accuracy 0.894737; Test Loss: 0.439586, Test Accuracy 0.885202\n"
     ]
    }
   ],
   "source": [
    "train_loss_list = []\n",
    "test_loss_list = []\n",
    "train_accuracy_list = []\n",
    "test_accuracy_list = []\n",
    "\n",
    "for epoch in range(0,epochs):\n",
    "    shuffled_ix_nparray = np.random.permutation(np.arange(len(x_train_list)))\n",
    "    x_train_list = x_train_list[shuffled_ix_nparray]\n",
    "    y_train_list = y_train_list[shuffled_ix_nparray]\n",
    "    num_batches = int(len(x_train_list)/batch_size)+1\n",
    "    for i in range(0,num_batches):\n",
    "        min_ix = i*batch_size\n",
    "        max_ix = np.min([len(x_train_list), ((i+1)*batch_size)])\n",
    "        x_train_batch_list = x_train_list[min_ix:max_ix]\n",
    "        y_train_batch_list = y_train_list[min_ix:max_ix]\n",
    "        \n",
    "        train_dict =\\\n",
    "        {x_data:x_train_batch_list,\\\n",
    "         y_output: y_train_batch_list, dropout_keep_prob:0.5}\n",
    "        sess.run(train_step, feed_dict=train_dict)\n",
    "    temp_train_loss, temp_train_acc = sess.run([loss, accuracy], feed_dict=train_dict)\n",
    "    train_loss_list.append(temp_train_loss)\n",
    "    train_accuracy_list.append(temp_train_acc)\n",
    "    test_dict =\\\n",
    "        {x_data:x_test_list,\\\n",
    "         y_output: y_test_list, dropout_keep_prob:1.0}\n",
    "    temp_test_loss, temp_test_acc = sess.run([loss, accuracy], feed_dict=test_dict)\n",
    "    test_loss_list.append(temp_test_loss)\n",
    "    test_accuracy_list.append(temp_test_acc)\n",
    "    print('Epoch: {}, Train Loss {:2f}, Train Accuracy {:2f}; Test Loss: {:2f}, Test Accuracy {:2f}'.\\\n",
    "          format((epoch+1), temp_train_loss, temp_train_acc, temp_test_loss, temp_test_acc))\n",
    "\n",
    "   "
   ]
  },
  {
   "cell_type": "code",
   "execution_count": 14,
   "metadata": {},
   "outputs": [
    {
     "data": {
      "image/png": "[encoded data removed]",
      "text/plain": [
       "<matplotlib.figure.Figure at 0x1fd472d4da0>"
      ]
     },
     "metadata": {},
     "output_type": "display_data"
    },
    {
     "data": {
      "image/png": "[encoded data removed]",
      "text/plain": [
       "<matplotlib.figure.Figure at 0x1fd474c0898>"
      ]
     },
     "metadata": {},
     "output_type": "display_data"
    }
   ],
   "source": [
    "epoch_seq_nparray = np.arange(1, (epochs+1))\n",
    "plt.plot(epoch_seq_nparray, train_loss_list, 'k--', label = 'Train Set')\n",
    "plt.plot(epoch_seq_nparray, test_loss_list, 'r-', label = 'Test Set')\n",
    "plt.title('Softmax Losses')\n",
    "plt.xlabel('Epochs')\n",
    "plt.ylabel('Softmax Loss Values')\n",
    "plt.legend(loc='upper left')\n",
    "plt.show()\n",
    "plt.plot(epoch_seq_nparray, train_accuracy_list, 'k--', label = 'Train Set')\n",
    "plt.plot(epoch_seq_nparray, test_accuracy_list, 'r-', label = 'Test Set')\n",
    "plt.title('Test Accuracies')\n",
    "plt.xlabel('Epochs')\n",
    "plt.ylabel('Accuracy Values')\n",
    "plt.legend(loc='upper left')\n",
    "plt.show()"
   ]
  },
  {
   "cell_type": "code",
   "execution_count": null,
   "metadata": {
    "collapsed": true
   },
   "outputs": [],
   "source": []
  }
 ],
 "metadata": {
  "kernelspec": {
   "display_name": "Python 3",
   "language": "python",
   "name": "python3"
  },
  "language_info": {
   "codemirror_mode": {
    "name": "ipython",
    "version": 3
   },
   "file_extension": ".py",
   "mimetype": "text/x-python",
   "name": "python",
   "nbconvert_exporter": "python",
   "pygments_lexer": "ipython3",
   "version": "3.6.3"
  }
 },
 "nbformat": 4,
 "nbformat_minor": 2
}
