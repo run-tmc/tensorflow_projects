{
 "cells": [
  {
   "cell_type": "markdown",
   "metadata": {},
   "source": [
    "# Linear Regression Algorithm with Cholesky Decomposition"
   ]
  },
  {
   "cell_type": "code",
   "execution_count": 1,
   "metadata": {},
   "outputs": [
    {
     "name": "stderr",
     "output_type": "stream",
     "text": [
      "C:\\Users\\trevo\\Anaconda3\\lib\\site-packages\\h5py\\__init__.py:34: FutureWarning: Conversion of the second argument of issubdtype from `float` to `np.floating` is deprecated. In future, it will be treated as `np.float64 == np.dtype(float).type`.\n",
      "  from ._conv import register_converters as _register_converters\n"
     ]
    }
   ],
   "source": [
    "# import numpy, tensorflow, and matplotlib.pyplot modules\n",
    "import numpy as np\n",
    "import tensorflow as tf\n",
    "import matplotlib.pyplot as plt\n",
    "# from tensorflow.python.framework import ops"
   ]
  },
  {
   "cell_type": "code",
   "execution_count": 7,
   "metadata": {},
   "outputs": [],
   "source": [
    "# Establish a tensorflow graph session\n",
    "sess = tf.Session()\n",
    "\n",
    "# Define feature dataset and target values\n",
    "x_vals = np.linspace(1,10, 100)\n",
    "y_vals = x_vals + np.random.normal(0, 1, 100)\n",
    "\n",
    "# Format feature dataset and target values for model training\n",
    "\n",
    "# Establish ones np.array for A column matrix \n",
    "ones_array = np.repeat(1,100)                           \n",
    "# Build a column matrix from x value and ones arrays\n",
    "A = np.matrix(np.column_stack((x_vals, ones_array)))\n",
    "# Formats y value np.array to a column matrix from a row matrix with transpose method \n",
    "b = np.transpose(np.matrix(y_vals))"
   ]
  },
  {
   "cell_type": "code",
   "execution_count": 8,
   "metadata": {},
   "outputs": [],
   "source": [
    "#Define tensorflow graph constants and model operations for the Cholesky Decomposition\n",
    "\n",
    "# Define tensorflow constants for A and b\n",
    "A_tensor = tf.constant(A)\n",
    "b_tensor = tf.constant(b)\n",
    "\n",
    "At = tf.transpose(A_tensor)\n",
    "At_A = tf.matmul(At, A_tensor)\n",
    "L = tf.cholesky(At_A)\n",
    "At_b = tf.matmul(At, b_tensor)\n",
    "sol1 = tf.matrix_solve(L, At_b)\n",
    "sol2 = tf.matrix_solve(tf.transpose(L), sol1)"
   ]
  },
  {
   "cell_type": "code",
   "execution_count": 17,
   "metadata": {},
   "outputs": [
    {
     "name": "stdout",
     "output_type": "stream",
     "text": [
      "The slope = 0.9571476463125362\n",
      "The y_intercept = 0.1552818262186601\n"
     ]
    }
   ],
   "source": [
    "# train linear regression model with graphic session\n",
    "solution_eval = sess.run(sol2)\n",
    "slope = solution_eval[0][0]\n",
    "y_intercept = solution_eval[1][0]\n",
    "print('The slope = {}'.format(slope))\n",
    "print('The y_intercept = {}'.format(y_intercept))"
   ]
  },
  {
   "cell_type": "code",
   "execution_count": 18,
   "metadata": {},
   "outputs": [
    {
     "data": {
      "image/png": "[encoded data removed]",
      "text/plain": [
       "<matplotlib.figure.Figure at 0x29dc37d27f0>"
      ]
     },
     "metadata": {},
     "output_type": "display_data"
    }
   ],
   "source": [
    "#Visualize of model best fit curve\n",
    "# Establish list for best fit line value\n",
    "best_fit_list = []\n",
    "\n",
    "# Loop to generate best fit line\n",
    "for i in x_vals:\n",
    "    best_fit_list.append((slope*i)+y_intercept)\n",
    "\n",
    "# Plot feature and target data\n",
    "plt.plot(x_vals, y_vals, 'o', label='Data')\n",
    "plt.plot(x_vals, best_fit_list, 'r-', label='Best Fit Line')\n",
    "plt.legend(loc='upper right')\n",
    "plt.show()"
   ]
  },
  {
   "cell_type": "code",
   "execution_count": null,
   "metadata": {
    "collapsed": true
   },
   "outputs": [],
   "source": []
  }
 ],
 "metadata": {
  "kernelspec": {
   "display_name": "Python 3",
   "language": "python",
   "name": "python3"
  },
  "language_info": {
   "codemirror_mode": {
    "name": "ipython",
    "version": 3
   },
   "file_extension": ".py",
   "mimetype": "text/x-python",
   "name": "python",
   "nbconvert_exporter": "python",
   "pygments_lexer": "ipython3",
   "version": "3.6.3"
  }
 },
 "nbformat": 4,
 "nbformat_minor": 2
}
