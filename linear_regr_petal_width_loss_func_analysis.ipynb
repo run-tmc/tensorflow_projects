{
 "cells": [
  {
   "cell_type": "markdown",
   "metadata": {},
   "source": [
    "# Linear Regression Loss Analysis for  Iris Petal Width Prediction"
   ]
  },
  {
   "cell_type": "code",
   "execution_count": 1,
   "metadata": {},
   "outputs": [
    {
     "name": "stderr",
     "output_type": "stream",
     "text": [
      "C:\\Users\\trevo\\Anaconda3\\lib\\site-packages\\h5py\\__init__.py:34: FutureWarning: Conversion of the second argument of issubdtype from `float` to `np.floating` is deprecated. In future, it will be treated as `np.float64 == np.dtype(float).type`.\n",
      "  from ._conv import register_converters as _register_converters\n"
     ]
    }
   ],
   "source": [
    "# import numpy, tensorflow, and matplotlib.pyplot modules\n",
    "import numpy as np\n",
    "import tensorflow as tf\n",
    "import matplotlib.pyplot as plt\n",
    "from tensorflow.python.framework import ops\n",
    "\n",
    "\n",
    "#import Iris dataset\n",
    "from sklearn import datasets"
   ]
  },
  {
   "cell_type": "markdown",
   "metadata": {},
   "source": [
    "First Train Linear Regression Models with L1 and L2 Loss Functions at a 0.05 Learning Rate"
   ]
  },
  {
   "cell_type": "code",
   "execution_count": 2,
   "metadata": {
    "collapsed": true
   },
   "outputs": [],
   "source": [
    "#load Iris dataset\n",
    "iris = datasets.load_iris()\n",
    "\n",
    "# Establish feature arrays with sepal lengths and petal widths\n",
    "x_vals = np.array([x[3] for x in iris.data])\n",
    "y_vals = np.array([y[0] for y in iris.data])\n",
    "\n",
    "# Establish a tensorflow graph session\n",
    "sess = tf.Session()\n",
    "\n",
    "# Define learning rate\n",
    "learning_rate = 0.05\n",
    "\n",
    "# Define the number of learning iterations\n",
    "iterations = 50\n",
    "\n",
    "# Define batch size\n",
    "batch_size = 25\n",
    "\n",
    "# Establish tensorflow placeholders for graph session data feeding of\n",
    "# iris features and classification targets from a single column array\n",
    "x_data = tf.placeholder(shape=[None, 1], dtype=tf.float32)\n",
    "y_target = tf.placeholder(shape=[None,1],  dtype=tf.float32)\n",
    "\n",
    "# Define the variable A weight and b bias for the tensorflow graph session \n",
    "# to learn and modify\n",
    "\n",
    "# Initialize weight A with a random value \n",
    "A = tf.Variable(tf.random_normal(shape=[1,1]))\n",
    "\n",
    "# Initialize bias b with a random value \n",
    "b = tf.Variable(tf.random_normal(shape=[1,1]))"
   ]
  },
  {
   "cell_type": "code",
   "execution_count": 3,
   "metadata": {
    "collapsed": true
   },
   "outputs": [],
   "source": [
    "# Define the graph model operations\n",
    "my_output = tf.add(tf.matmul(x_data, A), b)\n",
    "\n",
    "# Define the loss function over each batch\n",
    "loss_l1 = tf.reduce_mean(tf.abs(y_target - my_output))\n",
    "\n",
    "# Initialize variable for graphic session\n",
    "init = tf.global_variables_initializer()\n",
    "sess.run(init)\n",
    "\n",
    "# Define gradient descent optimization algorithm for graphic session\n",
    "my_opt_l1 = tf.train.GradientDescentOptimizer(learning_rate=learning_rate)\n",
    "train_step_l1 = my_opt_l1.minimize(loss_l1)"
   ]
  },
  {
   "cell_type": "code",
   "execution_count": 4,
   "metadata": {},
   "outputs": [
    {
     "name": "stdout",
     "output_type": "stream",
     "text": [
      "Step#25 A = [[1.6241573]]\n",
      "Loss = 2.5857229232788086\n",
      "Step#50 A = [[2.3603573]]\n",
      "Loss = 0.8810665607452393\n"
     ]
    }
   ],
   "source": [
    "# loop for L1 graphic training sessions\n",
    "\n",
    "# Establish list vector of batch loss 1 values\n",
    "loss_vector_l1_list = []\n",
    "\n",
    "# loop for model training defined number of iterations\n",
    "for i in range(0,iterations):\n",
    "    # Generate random numbers based on training data and batch size\n",
    "    rand_index = np.random.choice(len(x_vals), size = batch_size)\n",
    "    # Select random x feature value (sepal length) and y target value (petal width) for training\n",
    "    # requires numpy transpose to match placeholder shape\n",
    "    rand_x = np.transpose([x_vals[rand_index]])\n",
    "    rand_y = np.transpose([y_vals[rand_index]])\n",
    "    # run graphic training sessions with feed placeholder data\n",
    "    sess.run(train_step_l1, feed_dict={x_data:rand_x, y_target:rand_y})\n",
    "    # run graphic session to compute batch loss values\n",
    "    temp_loss_l1 = sess.run(loss_l1, feed_dict={x_data:rand_x, y_target:rand_y})\n",
    "    loss_vector_l1_list.append(temp_loss_l1)\n",
    "    # Display algorithm status after each block on 25 iterations\n",
    "    if ((i+1)%25 == 0):\n",
    "        print('Step#{} A = {}'.format((i+1),sess.run(A)))\n",
    "        print('Loss = {}'.format(temp_loss_l1))\n"
   ]
  },
  {
   "cell_type": "code",
   "execution_count": 5,
   "metadata": {
    "collapsed": true
   },
   "outputs": [],
   "source": [
    "# Model with loss 2 function\n",
    "\n",
    "# Define the loss function over each batch\n",
    "loss_l2 = tf.reduce_mean(tf.square(y_target - my_output))\n",
    "\n",
    "# Initialize variable to reset graphic session\n",
    "init = tf.global_variables_initializer()\n",
    "sess.run(init)\n",
    "\n",
    "# Define gradient descent optimization algorithm for graphic session\n",
    "my_opt_l2 = tf.train.GradientDescentOptimizer(learning_rate=learning_rate)\n",
    "train_step_l2 = my_opt_l1.minimize(loss_l2)"
   ]
  },
  {
   "cell_type": "code",
   "execution_count": 6,
   "metadata": {},
   "outputs": [
    {
     "name": "stdout",
     "output_type": "stream",
     "text": [
      "Step#25 A = [[1.620593]]\n",
      "Loss = 0.7846009135246277\n",
      "Step#50 A = [[1.272342]]\n",
      "Loss = 0.32966044545173645\n"
     ]
    }
   ],
   "source": [
    "# loop for L2 graphic training sessions\n",
    "\n",
    "# Establish list vector of batch loss 2 values\n",
    "loss_vector_l2_list = []\n",
    "\n",
    "# loop for model training defined number of iterations\n",
    "for i in range(0,iterations):\n",
    "    # Generate random numbers based on training data and batch size\n",
    "    rand_index = np.random.choice(len(x_vals), size = batch_size)\n",
    "    # Select random x feature value (sepal length) and y target value (petal width) for training\n",
    "    # requires numpy transpose to match placeholder shape\n",
    "    rand_x = np.transpose([x_vals[rand_index]])\n",
    "    rand_y = np.transpose([y_vals[rand_index]])\n",
    "    # run graphic training sessions with feed placeholder data\n",
    "    sess.run(train_step_l2, feed_dict={x_data:rand_x, y_target:rand_y})\n",
    "    # run graphic session to compute batch loss values\n",
    "    temp_loss_l2 = sess.run(loss_l2, feed_dict={x_data:rand_x, y_target:rand_y})\n",
    "    loss_vector_l2_list.append(temp_loss_l2)\n",
    "    # Display algorithm status after each block on 25 iterations\n",
    "    if ((i+1)%25 == 0):\n",
    "        print('Step#{} A = {}'.format((i+1),sess.run(A)))\n",
    "        print('Loss = {}'.format(temp_loss_l2))\n"
   ]
  },
  {
   "cell_type": "code",
   "execution_count": 7,
   "metadata": {},
   "outputs": [
    {
     "data": {
      "image/png": "[encoded data removed]",
      "text/plain": [
       "<matplotlib.figure.Figure at 0x1c7441c0cf8>"
      ]
     },
     "metadata": {},
     "output_type": "display_data"
    }
   ],
   "source": [
    "#Visualize of model loss values with 0.4 learning Rate\n",
    "\n",
    "#Plot L1 and L2 batch Losses\n",
    "plt.plot(loss_vector_l1_list, 'k-', label= 'L1 loss')\n",
    "plt.plot(loss_vector_l2_list, 'r--', label= 'L2 loss')\n",
    "plt.title('L1 and L2 Loss per Generation', fontsize = 20)\n",
    "plt.xlabel('Generation')\n",
    "plt.ylabel('Batch Losses')\n",
    "plt.legend(loc='upper right')\n",
    "plt.show()"
   ]
  },
  {
   "cell_type": "markdown",
   "metadata": {
    "collapsed": true
   },
   "source": [
    "Update Learning Rate to 0.4"
   ]
  },
  {
   "cell_type": "code",
   "execution_count": 8,
   "metadata": {
    "collapsed": true
   },
   "outputs": [],
   "source": [
    "# Reset graphic session\n",
    "ops.reset_default_graph()\n",
    "\n",
    "# Establish a tensorflow graph session\n",
    "sess = tf.Session()\n",
    "\n",
    "# Establish tensorflow placeholders for graph session data feeding of\n",
    "# iris features and classification targets from a single column array\n",
    "x_data = tf.placeholder(shape=[None, 1], dtype=tf.float32)\n",
    "y_target = tf.placeholder(shape=[None,1],  dtype=tf.float32)\n",
    "\n",
    "# Define the variable A weight and b bias for the tensorflow graph session \n",
    "# to learn and modify\n",
    "\n",
    "# Initialize weight A with a random value \n",
    "A = tf.Variable(tf.random_normal(shape=[1,1]))\n",
    "\n",
    "# Initialize bias b with a random value \n",
    "b = tf.Variable(tf.random_normal(shape=[1,1]))\n",
    "\n",
    "# Update learning rate\n",
    "learning_rate = 0.4\n",
    "\n",
    "# Define the graph model operations\n",
    "my_output = tf.add(tf.matmul(x_data, A), b)"
   ]
  },
  {
   "cell_type": "code",
   "execution_count": 9,
   "metadata": {},
   "outputs": [
    {
     "name": "stdout",
     "output_type": "stream",
     "text": [
      "Step#25 A = [[1.6809295]]\n",
      "Loss = 0.6366724967956543\n",
      "Step#50 A = [[0.9881297]]\n",
      "Loss = 0.4721035361289978\n"
     ]
    }
   ],
   "source": [
    "# Define the loss function over each batch\n",
    "loss_l1 = tf.reduce_mean(tf.abs(y_target - my_output))\n",
    "\n",
    "# Initialize variable for graphic session\n",
    "init = tf.global_variables_initializer()\n",
    "sess.run(init)\n",
    "\n",
    "# Define gradient descent optimization algorithm for graphic session\n",
    "my_opt_l1 = tf.train.GradientDescentOptimizer(learning_rate=learning_rate)\n",
    "train_step_l1 = my_opt_l1.minimize(loss_l1)\n",
    "\n",
    "# loop for L1 graphic training sessions\n",
    "\n",
    "# Initialize variable to reset graphic session\n",
    "init = tf.global_variables_initializer()\n",
    "sess.run(init)\n",
    "\n",
    "# Establish list vector of batch loss 1 values\n",
    "loss_vector_l1_list = []\n",
    "\n",
    "# loop for model training defined number of iterations\n",
    "for i in range(0,iterations):\n",
    "    # Generate random numbers based on training data and batch size\n",
    "    rand_index = np.random.choice(len(x_vals), size = batch_size)\n",
    "    # Select random x feature value (sepal length) and y target value (petal width) for training\n",
    "    # requires numpy transpose to match placeholder shape\n",
    "    rand_x = np.transpose([x_vals[rand_index]])\n",
    "    rand_y = np.transpose([y_vals[rand_index]])\n",
    "    # run graphic training sessions with feed placeholder data\n",
    "    sess.run(train_step_l1, feed_dict={x_data:rand_x, y_target:rand_y})\n",
    "    # run graphic session to compute batch loss values\n",
    "    temp_loss_l1 = sess.run(loss_l1, feed_dict={x_data:rand_x, y_target:rand_y})\n",
    "    loss_vector_l1_list.append(temp_loss_l1)\n",
    "    # Display algorithm status after each block on 25 iterations\n",
    "    if ((i+1)%25 == 0):\n",
    "        print('Step#{} A = {}'.format((i+1),sess.run(A)))\n",
    "        print('Loss = {}'.format(temp_loss_l1))"
   ]
  },
  {
   "cell_type": "code",
   "execution_count": 10,
   "metadata": {},
   "outputs": [
    {
     "name": "stdout",
     "output_type": "stream",
     "text": [
      "Step#25 A = [[461.49628]]\n",
      "Loss = 943306.875\n",
      "Step#50 A = [[-20360.607]]\n",
      "Loss = 2093147392.0\n"
     ]
    }
   ],
   "source": [
    "# Define the loss function over each batch\n",
    "loss_l2 = tf.reduce_mean(tf.square(y_target - my_output))\n",
    "\n",
    "# Initialize variable to reset graphic session\n",
    "init = tf.global_variables_initializer()\n",
    "sess.run(init)\n",
    "\n",
    "# Define gradient descent optimization algorithm for graphic session\n",
    "my_opt_l2 = tf.train.GradientDescentOptimizer(learning_rate=learning_rate)\n",
    "train_step_l2 = my_opt_l1.minimize(loss_l2)\n",
    "# loop for L2 graphic training sessions\n",
    "\n",
    "# Initialize variable to reset graphic session\n",
    "init = tf.global_variables_initializer()\n",
    "sess.run(init)\n",
    "\n",
    "# Establish list vector of batch loss 2 values\n",
    "loss_vector_l2_list = []\n",
    "\n",
    "# loop for model training defined number of iterations\n",
    "for i in range(0,iterations):\n",
    "    # Generate random numbers based on training data and batch size\n",
    "    rand_index = np.random.choice(len(x_vals), size = batch_size)\n",
    "    # Select random x feature value (sepal length) and y target value (petal width) for training\n",
    "    # requires numpy transpose to match placeholder shape\n",
    "    rand_x = np.transpose([x_vals[rand_index]])\n",
    "    rand_y = np.transpose([y_vals[rand_index]])\n",
    "    # run graphic training sessions with feed placeholder data\n",
    "    sess.run(train_step_l2, feed_dict={x_data:rand_x, y_target:rand_y})\n",
    "    # run graphic session to compute batch loss values\n",
    "    temp_loss_l2 = sess.run(loss_l2, feed_dict={x_data:rand_x, y_target:rand_y})\n",
    "    loss_vector_l2_list.append(temp_loss_l2)\n",
    "    # Display algorithm status after each block on 25 iterations\n",
    "    if ((i+1)%25 == 0):\n",
    "        print('Step#{} A = {}'.format((i+1),sess.run(A)))\n",
    "        print('Loss = {}'.format(temp_loss_l2))"
   ]
  },
  {
   "cell_type": "code",
   "execution_count": 11,
   "metadata": {},
   "outputs": [
    {
     "data": {
      "image/png": "[encoded data removed]",
      "text/plain": [
       "<matplotlib.figure.Figure at 0x1c746247748>"
      ]
     },
     "metadata": {},
     "output_type": "display_data"
    }
   ],
   "source": [
    "#Visualize of model loss values with 0.4 learning Rate\n",
    "\n",
    "#Plot L1 and L2 batch Losses\n",
    "plt.plot(loss_vector_l1_list, 'k-', label= 'L1 loss')\n",
    "plt.plot(loss_vector_l2_list, 'r--', label= 'L2 loss')\n",
    "plt.title('L1 and L2 Loss per Generation', fontsize = 20)\n",
    "plt.xlabel('Generation')\n",
    "plt.ylabel('Batch Losses')\n",
    "plt.legend(loc='upper right')\n",
    "plt.show()"
   ]
  },
  {
   "cell_type": "markdown",
   "metadata": {
    "collapsed": true
   },
   "source": [
    "For a larger learning rate, the loss 2 function does not converge as number of modeling iteration steps increases."
   ]
  }
 ],
 "metadata": {
  "kernelspec": {
   "display_name": "Python 3",
   "language": "python",
   "name": "python3"
  },
  "language_info": {
   "codemirror_mode": {
    "name": "ipython",
    "version": 3
   },
   "file_extension": ".py",
   "mimetype": "text/x-python",
   "name": "python",
   "nbconvert_exporter": "python",
   "pygments_lexer": "ipython3",
   "version": "3.6.3"
  }
 },
 "nbformat": 4,
 "nbformat_minor": 2
}
